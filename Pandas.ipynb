{
 "cells": [
  {
   "cell_type": "markdown",
   "id": "5d68d957",
   "metadata": {},
   "source": [
    "# Pandas Jupyter"
   ]
  },
  {
   "cell_type": "code",
   "execution_count": 1,
   "id": "def69779",
   "metadata": {},
   "outputs": [],
   "source": [
    "import pandas as pd \n",
    "import numpy as np"
   ]
  },
  {
   "cell_type": "code",
   "execution_count": 2,
   "id": "0054ed83",
   "metadata": {},
   "outputs": [],
   "source": [
    "dict1 = {\n",
    "    \"name\" : [\"faizan\",\"ghania\",\"sameer\",\"khubaib\",\"farhan\"],\n",
    "    \"marks\" : [92,93,34,24,17],\n",
    "    \"city\" : [\"Lahore\",\"Lahore\",\"karachi\",\"islamabad\",\"delhi\"]\n",
    "}"
   ]
  },
  {
   "cell_type": "code",
   "execution_count": 3,
   "id": "25cb6894",
   "metadata": {},
   "outputs": [],
   "source": [
    "# It will create a data frame (like an excel sheet) analysis the data\n",
    "\n",
    "df = pd.DataFrame(dict1)"
   ]
  },
  {
   "cell_type": "code",
   "execution_count": 4,
   "id": "d7a11f31",
   "metadata": {},
   "outputs": [
    {
     "data": {
      "text/html": [
       "<div>\n",
       "<style scoped>\n",
       "    .dataframe tbody tr th:only-of-type {\n",
       "        vertical-align: middle;\n",
       "    }\n",
       "\n",
       "    .dataframe tbody tr th {\n",
       "        vertical-align: top;\n",
       "    }\n",
       "\n",
       "    .dataframe thead th {\n",
       "        text-align: right;\n",
       "    }\n",
       "</style>\n",
       "<table border=\"1\" class=\"dataframe\">\n",
       "  <thead>\n",
       "    <tr style=\"text-align: right;\">\n",
       "      <th></th>\n",
       "      <th>name</th>\n",
       "      <th>marks</th>\n",
       "      <th>city</th>\n",
       "    </tr>\n",
       "  </thead>\n",
       "  <tbody>\n",
       "    <tr>\n",
       "      <th>0</th>\n",
       "      <td>faizan</td>\n",
       "      <td>92</td>\n",
       "      <td>Lahore</td>\n",
       "    </tr>\n",
       "    <tr>\n",
       "      <th>1</th>\n",
       "      <td>ghania</td>\n",
       "      <td>93</td>\n",
       "      <td>Lahore</td>\n",
       "    </tr>\n",
       "    <tr>\n",
       "      <th>2</th>\n",
       "      <td>sameer</td>\n",
       "      <td>34</td>\n",
       "      <td>karachi</td>\n",
       "    </tr>\n",
       "    <tr>\n",
       "      <th>3</th>\n",
       "      <td>khubaib</td>\n",
       "      <td>24</td>\n",
       "      <td>islamabad</td>\n",
       "    </tr>\n",
       "    <tr>\n",
       "      <th>4</th>\n",
       "      <td>farhan</td>\n",
       "      <td>17</td>\n",
       "      <td>delhi</td>\n",
       "    </tr>\n",
       "  </tbody>\n",
       "</table>\n",
       "</div>"
      ],
      "text/plain": [
       "      name  marks       city\n",
       "0   faizan     92     Lahore\n",
       "1   ghania     93     Lahore\n",
       "2   sameer     34    karachi\n",
       "3  khubaib     24  islamabad\n",
       "4   farhan     17      delhi"
      ]
     },
     "execution_count": 4,
     "metadata": {},
     "output_type": "execute_result"
    }
   ],
   "source": [
    "df"
   ]
  },
  {
   "cell_type": "code",
   "execution_count": 5,
   "id": "bef4163a",
   "metadata": {},
   "outputs": [],
   "source": [
    "# Index mean row like here is 0,1,2,3,4 \n",
    "\n",
    "df.to_csv(\"friends.csv\")"
   ]
  },
  {
   "cell_type": "code",
   "execution_count": 6,
   "id": "dc374156",
   "metadata": {},
   "outputs": [],
   "source": [
    "# Here we didn't put the index in this excel sheet\n",
    "\n",
    "df.to_csv(\"friends_index_false.csv\",index=False)"
   ]
  },
  {
   "cell_type": "code",
   "execution_count": 7,
   "id": "888194be",
   "metadata": {},
   "outputs": [
    {
     "data": {
      "text/html": [
       "<div>\n",
       "<style scoped>\n",
       "    .dataframe tbody tr th:only-of-type {\n",
       "        vertical-align: middle;\n",
       "    }\n",
       "\n",
       "    .dataframe tbody tr th {\n",
       "        vertical-align: top;\n",
       "    }\n",
       "\n",
       "    .dataframe thead th {\n",
       "        text-align: right;\n",
       "    }\n",
       "</style>\n",
       "<table border=\"1\" class=\"dataframe\">\n",
       "  <thead>\n",
       "    <tr style=\"text-align: right;\">\n",
       "      <th></th>\n",
       "      <th>name</th>\n",
       "      <th>marks</th>\n",
       "      <th>city</th>\n",
       "    </tr>\n",
       "  </thead>\n",
       "  <tbody>\n",
       "    <tr>\n",
       "      <th>0</th>\n",
       "      <td>faizan</td>\n",
       "      <td>92</td>\n",
       "      <td>Lahore</td>\n",
       "    </tr>\n",
       "    <tr>\n",
       "      <th>1</th>\n",
       "      <td>ghania</td>\n",
       "      <td>93</td>\n",
       "      <td>Lahore</td>\n",
       "    </tr>\n",
       "  </tbody>\n",
       "</table>\n",
       "</div>"
      ],
      "text/plain": [
       "     name  marks    city\n",
       "0  faizan     92  Lahore\n",
       "1  ghania     93  Lahore"
      ]
     },
     "execution_count": 7,
     "metadata": {},
     "output_type": "execute_result"
    }
   ],
   "source": [
    "# It's shows the starting two rows\n",
    "\n",
    "df.head(2)"
   ]
  },
  {
   "cell_type": "code",
   "execution_count": 8,
   "id": "ea08dbbe",
   "metadata": {},
   "outputs": [
    {
     "data": {
      "text/html": [
       "<div>\n",
       "<style scoped>\n",
       "    .dataframe tbody tr th:only-of-type {\n",
       "        vertical-align: middle;\n",
       "    }\n",
       "\n",
       "    .dataframe tbody tr th {\n",
       "        vertical-align: top;\n",
       "    }\n",
       "\n",
       "    .dataframe thead th {\n",
       "        text-align: right;\n",
       "    }\n",
       "</style>\n",
       "<table border=\"1\" class=\"dataframe\">\n",
       "  <thead>\n",
       "    <tr style=\"text-align: right;\">\n",
       "      <th></th>\n",
       "      <th>name</th>\n",
       "      <th>marks</th>\n",
       "      <th>city</th>\n",
       "    </tr>\n",
       "  </thead>\n",
       "  <tbody>\n",
       "    <tr>\n",
       "      <th>3</th>\n",
       "      <td>khubaib</td>\n",
       "      <td>24</td>\n",
       "      <td>islamabad</td>\n",
       "    </tr>\n",
       "    <tr>\n",
       "      <th>4</th>\n",
       "      <td>farhan</td>\n",
       "      <td>17</td>\n",
       "      <td>delhi</td>\n",
       "    </tr>\n",
       "  </tbody>\n",
       "</table>\n",
       "</div>"
      ],
      "text/plain": [
       "      name  marks       city\n",
       "3  khubaib     24  islamabad\n",
       "4   farhan     17      delhi"
      ]
     },
     "execution_count": 8,
     "metadata": {},
     "output_type": "execute_result"
    }
   ],
   "source": [
    "# It's shows the ending two rows\n",
    "\n",
    "\n",
    "df.tail(2)"
   ]
  },
  {
   "cell_type": "code",
   "execution_count": 9,
   "id": "c123aa54",
   "metadata": {},
   "outputs": [
    {
     "data": {
      "text/html": [
       "<div>\n",
       "<style scoped>\n",
       "    .dataframe tbody tr th:only-of-type {\n",
       "        vertical-align: middle;\n",
       "    }\n",
       "\n",
       "    .dataframe tbody tr th {\n",
       "        vertical-align: top;\n",
       "    }\n",
       "\n",
       "    .dataframe thead th {\n",
       "        text-align: right;\n",
       "    }\n",
       "</style>\n",
       "<table border=\"1\" class=\"dataframe\">\n",
       "  <thead>\n",
       "    <tr style=\"text-align: right;\">\n",
       "      <th></th>\n",
       "      <th>marks</th>\n",
       "    </tr>\n",
       "  </thead>\n",
       "  <tbody>\n",
       "    <tr>\n",
       "      <th>count</th>\n",
       "      <td>5.000000</td>\n",
       "    </tr>\n",
       "    <tr>\n",
       "      <th>mean</th>\n",
       "      <td>52.000000</td>\n",
       "    </tr>\n",
       "    <tr>\n",
       "      <th>std</th>\n",
       "      <td>37.463315</td>\n",
       "    </tr>\n",
       "    <tr>\n",
       "      <th>min</th>\n",
       "      <td>17.000000</td>\n",
       "    </tr>\n",
       "    <tr>\n",
       "      <th>25%</th>\n",
       "      <td>24.000000</td>\n",
       "    </tr>\n",
       "    <tr>\n",
       "      <th>50%</th>\n",
       "      <td>34.000000</td>\n",
       "    </tr>\n",
       "    <tr>\n",
       "      <th>75%</th>\n",
       "      <td>92.000000</td>\n",
       "    </tr>\n",
       "    <tr>\n",
       "      <th>max</th>\n",
       "      <td>93.000000</td>\n",
       "    </tr>\n",
       "  </tbody>\n",
       "</table>\n",
       "</div>"
      ],
      "text/plain": [
       "           marks\n",
       "count   5.000000\n",
       "mean   52.000000\n",
       "std    37.463315\n",
       "min    17.000000\n",
       "25%    24.000000\n",
       "50%    34.000000\n",
       "75%    92.000000\n",
       "max    93.000000"
      ]
     },
     "execution_count": 9,
     "metadata": {},
     "output_type": "execute_result"
    }
   ],
   "source": [
    "# It's perform the Statical Analysis here\n",
    "\n",
    "df.describe()"
   ]
  },
  {
   "cell_type": "markdown",
   "id": "68e44462",
   "metadata": {},
   "source": [
    "# How to read csv file"
   ]
  },
  {
   "cell_type": "code",
   "execution_count": 10,
   "id": "66bbdead",
   "metadata": {},
   "outputs": [],
   "source": [
    "faizan = pd.read_csv('faizan.csv')"
   ]
  },
  {
   "cell_type": "code",
   "execution_count": 11,
   "id": "cb0e9fcc",
   "metadata": {},
   "outputs": [
    {
     "data": {
      "text/html": [
       "<div>\n",
       "<style scoped>\n",
       "    .dataframe tbody tr th:only-of-type {\n",
       "        vertical-align: middle;\n",
       "    }\n",
       "\n",
       "    .dataframe tbody tr th {\n",
       "        vertical-align: top;\n",
       "    }\n",
       "\n",
       "    .dataframe thead th {\n",
       "        text-align: right;\n",
       "    }\n",
       "</style>\n",
       "<table border=\"1\" class=\"dataframe\">\n",
       "  <thead>\n",
       "    <tr style=\"text-align: right;\">\n",
       "      <th></th>\n",
       "      <th>Train No</th>\n",
       "      <th>speed</th>\n",
       "      <th>city</th>\n",
       "    </tr>\n",
       "  </thead>\n",
       "  <tbody>\n",
       "    <tr>\n",
       "      <th>0</th>\n",
       "      <td>1232</td>\n",
       "      <td>34</td>\n",
       "      <td>Lahore</td>\n",
       "    </tr>\n",
       "    <tr>\n",
       "      <th>1</th>\n",
       "      <td>1231</td>\n",
       "      <td>40</td>\n",
       "      <td>Lahore</td>\n",
       "    </tr>\n",
       "    <tr>\n",
       "      <th>2</th>\n",
       "      <td>31234</td>\n",
       "      <td>13</td>\n",
       "      <td>karachi</td>\n",
       "    </tr>\n",
       "    <tr>\n",
       "      <th>3</th>\n",
       "      <td>123</td>\n",
       "      <td>13</td>\n",
       "      <td>islamabad</td>\n",
       "    </tr>\n",
       "    <tr>\n",
       "      <th>4</th>\n",
       "      <td>423</td>\n",
       "      <td>42</td>\n",
       "      <td>delhi</td>\n",
       "    </tr>\n",
       "  </tbody>\n",
       "</table>\n",
       "</div>"
      ],
      "text/plain": [
       "   Train No  speed       city\n",
       "0      1232     34     Lahore\n",
       "1      1231     40     Lahore\n",
       "2     31234     13    karachi\n",
       "3       123     13  islamabad\n",
       "4       423     42      delhi"
      ]
     },
     "execution_count": 11,
     "metadata": {},
     "output_type": "execute_result"
    }
   ],
   "source": [
    "faizan"
   ]
  },
  {
   "cell_type": "code",
   "execution_count": 12,
   "id": "17b0ebbe",
   "metadata": {},
   "outputs": [
    {
     "data": {
      "text/plain": [
       "0    34\n",
       "1    40\n",
       "2    13\n",
       "3    13\n",
       "4    42\n",
       "Name: speed, dtype: int64"
      ]
     },
     "execution_count": 12,
     "metadata": {},
     "output_type": "execute_result"
    }
   ],
   "source": [
    "# It's access the speed column\n",
    "\n",
    "faizan['speed']"
   ]
  },
  {
   "cell_type": "code",
   "execution_count": 13,
   "id": "f3b290e1",
   "metadata": {},
   "outputs": [
    {
     "data": {
      "text/plain": [
       "40"
      ]
     },
     "execution_count": 13,
     "metadata": {},
     "output_type": "execute_result"
    }
   ],
   "source": [
    "# It's access the speed column with index acess number\n",
    "\n",
    "faizan['speed'][1]"
   ]
  },
  {
   "cell_type": "code",
   "execution_count": 14,
   "id": "8e7a02bf",
   "metadata": {},
   "outputs": [
    {
     "name": "stderr",
     "output_type": "stream",
     "text": [
      "<ipython-input-14-c67efbad664b>:3: SettingWithCopyWarning: \n",
      "A value is trying to be set on a copy of a slice from a DataFrame\n",
      "\n",
      "See the caveats in the documentation: https://pandas.pydata.org/pandas-docs/stable/user_guide/indexing.html#returning-a-view-versus-a-copy\n",
      "  faizan['speed'][1] = 40\n"
     ]
    }
   ],
   "source": [
    "# It give s a warrning please don't do this thing here but it still change the data\n",
    "\n",
    "faizan['speed'][1] = 40"
   ]
  },
  {
   "cell_type": "code",
   "execution_count": 15,
   "id": "569e320c",
   "metadata": {},
   "outputs": [
    {
     "data": {
      "text/html": [
       "<div>\n",
       "<style scoped>\n",
       "    .dataframe tbody tr th:only-of-type {\n",
       "        vertical-align: middle;\n",
       "    }\n",
       "\n",
       "    .dataframe tbody tr th {\n",
       "        vertical-align: top;\n",
       "    }\n",
       "\n",
       "    .dataframe thead th {\n",
       "        text-align: right;\n",
       "    }\n",
       "</style>\n",
       "<table border=\"1\" class=\"dataframe\">\n",
       "  <thead>\n",
       "    <tr style=\"text-align: right;\">\n",
       "      <th></th>\n",
       "      <th>Train No</th>\n",
       "      <th>speed</th>\n",
       "      <th>city</th>\n",
       "    </tr>\n",
       "  </thead>\n",
       "  <tbody>\n",
       "    <tr>\n",
       "      <th>0</th>\n",
       "      <td>1232</td>\n",
       "      <td>34</td>\n",
       "      <td>Lahore</td>\n",
       "    </tr>\n",
       "    <tr>\n",
       "      <th>1</th>\n",
       "      <td>1231</td>\n",
       "      <td>40</td>\n",
       "      <td>Lahore</td>\n",
       "    </tr>\n",
       "    <tr>\n",
       "      <th>2</th>\n",
       "      <td>31234</td>\n",
       "      <td>13</td>\n",
       "      <td>karachi</td>\n",
       "    </tr>\n",
       "    <tr>\n",
       "      <th>3</th>\n",
       "      <td>123</td>\n",
       "      <td>13</td>\n",
       "      <td>islamabad</td>\n",
       "    </tr>\n",
       "    <tr>\n",
       "      <th>4</th>\n",
       "      <td>423</td>\n",
       "      <td>42</td>\n",
       "      <td>delhi</td>\n",
       "    </tr>\n",
       "  </tbody>\n",
       "</table>\n",
       "</div>"
      ],
      "text/plain": [
       "   Train No  speed       city\n",
       "0      1232     34     Lahore\n",
       "1      1231     40     Lahore\n",
       "2     31234     13    karachi\n",
       "3       123     13  islamabad\n",
       "4       423     42      delhi"
      ]
     },
     "execution_count": 15,
     "metadata": {},
     "output_type": "execute_result"
    }
   ],
   "source": [
    "faizan"
   ]
  },
  {
   "cell_type": "code",
   "execution_count": 16,
   "id": "d7b5b176",
   "metadata": {},
   "outputs": [],
   "source": [
    "faizan.to_csv('faizan.csv',index=False)"
   ]
  },
  {
   "cell_type": "code",
   "execution_count": 17,
   "id": "30846fc9",
   "metadata": {},
   "outputs": [],
   "source": [
    "# How to change the index number to replace with\n",
    "\n",
    "faizan.index = ['first','second','third','fourth','fifth']"
   ]
  },
  {
   "cell_type": "code",
   "execution_count": 18,
   "id": "a0988e5d",
   "metadata": {},
   "outputs": [
    {
     "data": {
      "text/html": [
       "<div>\n",
       "<style scoped>\n",
       "    .dataframe tbody tr th:only-of-type {\n",
       "        vertical-align: middle;\n",
       "    }\n",
       "\n",
       "    .dataframe tbody tr th {\n",
       "        vertical-align: top;\n",
       "    }\n",
       "\n",
       "    .dataframe thead th {\n",
       "        text-align: right;\n",
       "    }\n",
       "</style>\n",
       "<table border=\"1\" class=\"dataframe\">\n",
       "  <thead>\n",
       "    <tr style=\"text-align: right;\">\n",
       "      <th></th>\n",
       "      <th>Train No</th>\n",
       "      <th>speed</th>\n",
       "      <th>city</th>\n",
       "    </tr>\n",
       "  </thead>\n",
       "  <tbody>\n",
       "    <tr>\n",
       "      <th>first</th>\n",
       "      <td>1232</td>\n",
       "      <td>34</td>\n",
       "      <td>Lahore</td>\n",
       "    </tr>\n",
       "    <tr>\n",
       "      <th>second</th>\n",
       "      <td>1231</td>\n",
       "      <td>40</td>\n",
       "      <td>Lahore</td>\n",
       "    </tr>\n",
       "    <tr>\n",
       "      <th>third</th>\n",
       "      <td>31234</td>\n",
       "      <td>13</td>\n",
       "      <td>karachi</td>\n",
       "    </tr>\n",
       "    <tr>\n",
       "      <th>fourth</th>\n",
       "      <td>123</td>\n",
       "      <td>13</td>\n",
       "      <td>islamabad</td>\n",
       "    </tr>\n",
       "    <tr>\n",
       "      <th>fifth</th>\n",
       "      <td>423</td>\n",
       "      <td>42</td>\n",
       "      <td>delhi</td>\n",
       "    </tr>\n",
       "  </tbody>\n",
       "</table>\n",
       "</div>"
      ],
      "text/plain": [
       "        Train No  speed       city\n",
       "first       1232     34     Lahore\n",
       "second      1231     40     Lahore\n",
       "third      31234     13    karachi\n",
       "fourth       123     13  islamabad\n",
       "fifth        423     42      delhi"
      ]
     },
     "execution_count": 18,
     "metadata": {},
     "output_type": "execute_result"
    }
   ],
   "source": [
    "faizan"
   ]
  },
  {
   "cell_type": "markdown",
   "id": "c2c283ee",
   "metadata": {},
   "source": [
    "**====================================================**\n",
    "\n",
    "**For select the row we have to index**\n",
    "\n",
    "**For select the column we have to Attribute name**\n",
    "\n",
    "**===================================================**"
   ]
  },
  {
   "cell_type": "markdown",
   "id": "cc65cb5c",
   "metadata": {},
   "source": [
    "# Theoretical Based"
   ]
  },
  {
   "cell_type": "markdown",
   "id": "c5cb9690",
   "metadata": {},
   "source": [
    "**=> Pandas is an open source data analysis library written in Python**\n",
    "\n",
    "**=> It leverages the power and speed of numpy to make data analysis and preprocessing easy for data scientists**\n",
    "\n",
    "**=> It provides rich and highly robust data operations**"
   ]
  },
  {
   "cell_type": "markdown",
   "id": "b364e0dd",
   "metadata": {},
   "source": [
    "If we use simple python like **list, Dict, tuple** and extract excel we cant handle a big data form so we need to require pandas library who store **csv file** in the base of pandas library it's automatically handel the data by itself."
   ]
  },
  {
   "cell_type": "markdown",
   "id": "22f43cb5",
   "metadata": {},
   "source": [
    "# Pandas has two types"
   ]
  },
  {
   "cell_type": "markdown",
   "id": "5ddeedb5",
   "metadata": {},
   "source": [
    "### Series\n",
    "### Dataframe"
   ]
  },
  {
   "cell_type": "markdown",
   "id": "8e2df7bb",
   "metadata": {},
   "source": [
    "**Series --** It's a one dimensional array with indexes, it stores a single column or row of data in a **Dataframe** (It's should have the same type of datatype in a one column).\n",
    "\n",
    "**Dataframe --** It's a tabular spreadsheet like structure representing rows each of which contains one or multiple columns (it's hold the different tpe of data)\n",
    "\n",
    "**So e.g**\n",
    "\n",
    "A one-dimensional array(labeled) capable of holding any type of data-**Series**\n",
    "\n",
    "A two-dimensional array(labeled) structure with columns of potentially different types of data- **DataFrame**\n",
    "\n"
   ]
  },
  {
   "cell_type": "markdown",
   "id": "b0f826d4",
   "metadata": {},
   "source": [
    "# let's practice with new point"
   ]
  },
  {
   "cell_type": "code",
   "execution_count": 19,
   "id": "0ab020ff",
   "metadata": {},
   "outputs": [],
   "source": [
    "ser = pd.Series(np.random.rand(34))"
   ]
  },
  {
   "cell_type": "code",
   "execution_count": 20,
   "id": "253dff29",
   "metadata": {},
   "outputs": [
    {
     "data": {
      "text/plain": [
       "0     0.532076\n",
       "1     0.672154\n",
       "2     0.099496\n",
       "3     0.461153\n",
       "4     0.226390\n",
       "5     0.004928\n",
       "6     0.363692\n",
       "7     0.969484\n",
       "8     0.387262\n",
       "9     0.714362\n",
       "10    0.428658\n",
       "11    0.482208\n",
       "12    0.360974\n",
       "13    0.957338\n",
       "14    0.899755\n",
       "15    0.262159\n",
       "16    0.269696\n",
       "17    0.700926\n",
       "18    0.095959\n",
       "19    0.733327\n",
       "20    0.295185\n",
       "21    0.606718\n",
       "22    0.947816\n",
       "23    0.160188\n",
       "24    0.681578\n",
       "25    0.464797\n",
       "26    0.270626\n",
       "27    0.667539\n",
       "28    0.427196\n",
       "29    0.381794\n",
       "30    0.611998\n",
       "31    0.822185\n",
       "32    0.253310\n",
       "33    0.717806\n",
       "dtype: float64"
      ]
     },
     "execution_count": 20,
     "metadata": {},
     "output_type": "execute_result"
    }
   ],
   "source": [
    "ser"
   ]
  },
  {
   "cell_type": "code",
   "execution_count": 21,
   "id": "6f00647d",
   "metadata": {},
   "outputs": [
    {
     "data": {
      "text/plain": [
       "pandas.core.series.Series"
      ]
     },
     "execution_count": 21,
     "metadata": {},
     "output_type": "execute_result"
    }
   ],
   "source": [
    "type(ser)"
   ]
  },
  {
   "cell_type": "code",
   "execution_count": 22,
   "id": "4d4232dd",
   "metadata": {},
   "outputs": [],
   "source": [
    "newf = pd.DataFrame(np.random.rand(334,5),index = np.arange(334))"
   ]
  },
  {
   "cell_type": "code",
   "execution_count": 23,
   "id": "ae79ff5f",
   "metadata": {},
   "outputs": [
    {
     "data": {
      "text/html": [
       "<div>\n",
       "<style scoped>\n",
       "    .dataframe tbody tr th:only-of-type {\n",
       "        vertical-align: middle;\n",
       "    }\n",
       "\n",
       "    .dataframe tbody tr th {\n",
       "        vertical-align: top;\n",
       "    }\n",
       "\n",
       "    .dataframe thead th {\n",
       "        text-align: right;\n",
       "    }\n",
       "</style>\n",
       "<table border=\"1\" class=\"dataframe\">\n",
       "  <thead>\n",
       "    <tr style=\"text-align: right;\">\n",
       "      <th></th>\n",
       "      <th>0</th>\n",
       "      <th>1</th>\n",
       "      <th>2</th>\n",
       "      <th>3</th>\n",
       "      <th>4</th>\n",
       "    </tr>\n",
       "  </thead>\n",
       "  <tbody>\n",
       "    <tr>\n",
       "      <th>0</th>\n",
       "      <td>0.490817</td>\n",
       "      <td>0.143020</td>\n",
       "      <td>0.347843</td>\n",
       "      <td>0.680186</td>\n",
       "      <td>0.783925</td>\n",
       "    </tr>\n",
       "    <tr>\n",
       "      <th>1</th>\n",
       "      <td>0.080284</td>\n",
       "      <td>0.619411</td>\n",
       "      <td>0.637637</td>\n",
       "      <td>0.481598</td>\n",
       "      <td>0.149782</td>\n",
       "    </tr>\n",
       "    <tr>\n",
       "      <th>2</th>\n",
       "      <td>0.288158</td>\n",
       "      <td>0.780141</td>\n",
       "      <td>0.422168</td>\n",
       "      <td>0.604559</td>\n",
       "      <td>0.323094</td>\n",
       "    </tr>\n",
       "    <tr>\n",
       "      <th>3</th>\n",
       "      <td>0.821595</td>\n",
       "      <td>0.835345</td>\n",
       "      <td>0.714774</td>\n",
       "      <td>0.848404</td>\n",
       "      <td>0.046831</td>\n",
       "    </tr>\n",
       "    <tr>\n",
       "      <th>4</th>\n",
       "      <td>0.194477</td>\n",
       "      <td>0.447926</td>\n",
       "      <td>0.067030</td>\n",
       "      <td>0.888192</td>\n",
       "      <td>0.668843</td>\n",
       "    </tr>\n",
       "  </tbody>\n",
       "</table>\n",
       "</div>"
      ],
      "text/plain": [
       "          0         1         2         3         4\n",
       "0  0.490817  0.143020  0.347843  0.680186  0.783925\n",
       "1  0.080284  0.619411  0.637637  0.481598  0.149782\n",
       "2  0.288158  0.780141  0.422168  0.604559  0.323094\n",
       "3  0.821595  0.835345  0.714774  0.848404  0.046831\n",
       "4  0.194477  0.447926  0.067030  0.888192  0.668843"
      ]
     },
     "execution_count": 23,
     "metadata": {},
     "output_type": "execute_result"
    }
   ],
   "source": [
    "newf.head()"
   ]
  },
  {
   "cell_type": "code",
   "execution_count": 24,
   "id": "2bb42e7d",
   "metadata": {},
   "outputs": [
    {
     "data": {
      "text/html": [
       "<div>\n",
       "<style scoped>\n",
       "    .dataframe tbody tr th:only-of-type {\n",
       "        vertical-align: middle;\n",
       "    }\n",
       "\n",
       "    .dataframe tbody tr th {\n",
       "        vertical-align: top;\n",
       "    }\n",
       "\n",
       "    .dataframe thead th {\n",
       "        text-align: right;\n",
       "    }\n",
       "</style>\n",
       "<table border=\"1\" class=\"dataframe\">\n",
       "  <thead>\n",
       "    <tr style=\"text-align: right;\">\n",
       "      <th></th>\n",
       "      <th>0</th>\n",
       "      <th>1</th>\n",
       "      <th>2</th>\n",
       "      <th>3</th>\n",
       "      <th>4</th>\n",
       "    </tr>\n",
       "  </thead>\n",
       "  <tbody>\n",
       "    <tr>\n",
       "      <th>0</th>\n",
       "      <td>0.490817</td>\n",
       "      <td>0.143020</td>\n",
       "      <td>0.347843</td>\n",
       "      <td>0.680186</td>\n",
       "      <td>0.783925</td>\n",
       "    </tr>\n",
       "    <tr>\n",
       "      <th>1</th>\n",
       "      <td>0.080284</td>\n",
       "      <td>0.619411</td>\n",
       "      <td>0.637637</td>\n",
       "      <td>0.481598</td>\n",
       "      <td>0.149782</td>\n",
       "    </tr>\n",
       "    <tr>\n",
       "      <th>2</th>\n",
       "      <td>0.288158</td>\n",
       "      <td>0.780141</td>\n",
       "      <td>0.422168</td>\n",
       "      <td>0.604559</td>\n",
       "      <td>0.323094</td>\n",
       "    </tr>\n",
       "    <tr>\n",
       "      <th>3</th>\n",
       "      <td>0.821595</td>\n",
       "      <td>0.835345</td>\n",
       "      <td>0.714774</td>\n",
       "      <td>0.848404</td>\n",
       "      <td>0.046831</td>\n",
       "    </tr>\n",
       "    <tr>\n",
       "      <th>4</th>\n",
       "      <td>0.194477</td>\n",
       "      <td>0.447926</td>\n",
       "      <td>0.067030</td>\n",
       "      <td>0.888192</td>\n",
       "      <td>0.668843</td>\n",
       "    </tr>\n",
       "    <tr>\n",
       "      <th>...</th>\n",
       "      <td>...</td>\n",
       "      <td>...</td>\n",
       "      <td>...</td>\n",
       "      <td>...</td>\n",
       "      <td>...</td>\n",
       "    </tr>\n",
       "    <tr>\n",
       "      <th>329</th>\n",
       "      <td>0.990653</td>\n",
       "      <td>0.565961</td>\n",
       "      <td>0.722428</td>\n",
       "      <td>0.009092</td>\n",
       "      <td>0.944413</td>\n",
       "    </tr>\n",
       "    <tr>\n",
       "      <th>330</th>\n",
       "      <td>0.969764</td>\n",
       "      <td>0.163666</td>\n",
       "      <td>0.908799</td>\n",
       "      <td>0.616855</td>\n",
       "      <td>0.244120</td>\n",
       "    </tr>\n",
       "    <tr>\n",
       "      <th>331</th>\n",
       "      <td>0.713657</td>\n",
       "      <td>0.123362</td>\n",
       "      <td>0.120819</td>\n",
       "      <td>0.199565</td>\n",
       "      <td>0.139388</td>\n",
       "    </tr>\n",
       "    <tr>\n",
       "      <th>332</th>\n",
       "      <td>0.922836</td>\n",
       "      <td>0.853739</td>\n",
       "      <td>0.845974</td>\n",
       "      <td>0.192337</td>\n",
       "      <td>0.743690</td>\n",
       "    </tr>\n",
       "    <tr>\n",
       "      <th>333</th>\n",
       "      <td>0.473598</td>\n",
       "      <td>0.786340</td>\n",
       "      <td>0.927190</td>\n",
       "      <td>0.829892</td>\n",
       "      <td>0.685971</td>\n",
       "    </tr>\n",
       "  </tbody>\n",
       "</table>\n",
       "<p>334 rows × 5 columns</p>\n",
       "</div>"
      ],
      "text/plain": [
       "            0         1         2         3         4\n",
       "0    0.490817  0.143020  0.347843  0.680186  0.783925\n",
       "1    0.080284  0.619411  0.637637  0.481598  0.149782\n",
       "2    0.288158  0.780141  0.422168  0.604559  0.323094\n",
       "3    0.821595  0.835345  0.714774  0.848404  0.046831\n",
       "4    0.194477  0.447926  0.067030  0.888192  0.668843\n",
       "..        ...       ...       ...       ...       ...\n",
       "329  0.990653  0.565961  0.722428  0.009092  0.944413\n",
       "330  0.969764  0.163666  0.908799  0.616855  0.244120\n",
       "331  0.713657  0.123362  0.120819  0.199565  0.139388\n",
       "332  0.922836  0.853739  0.845974  0.192337  0.743690\n",
       "333  0.473598  0.786340  0.927190  0.829892  0.685971\n",
       "\n",
       "[334 rows x 5 columns]"
      ]
     },
     "execution_count": 24,
     "metadata": {},
     "output_type": "execute_result"
    }
   ],
   "source": [
    "newf"
   ]
  },
  {
   "cell_type": "code",
   "execution_count": 25,
   "id": "c5a2c0a2",
   "metadata": {},
   "outputs": [
    {
     "data": {
      "text/plain": [
       "pandas.core.frame.DataFrame"
      ]
     },
     "execution_count": 25,
     "metadata": {},
     "output_type": "execute_result"
    }
   ],
   "source": [
    "type(newf)"
   ]
  },
  {
   "cell_type": "code",
   "execution_count": 26,
   "id": "b803a7fb",
   "metadata": {},
   "outputs": [
    {
     "data": {
      "text/html": [
       "<div>\n",
       "<style scoped>\n",
       "    .dataframe tbody tr th:only-of-type {\n",
       "        vertical-align: middle;\n",
       "    }\n",
       "\n",
       "    .dataframe tbody tr th {\n",
       "        vertical-align: top;\n",
       "    }\n",
       "\n",
       "    .dataframe thead th {\n",
       "        text-align: right;\n",
       "    }\n",
       "</style>\n",
       "<table border=\"1\" class=\"dataframe\">\n",
       "  <thead>\n",
       "    <tr style=\"text-align: right;\">\n",
       "      <th></th>\n",
       "      <th>0</th>\n",
       "      <th>1</th>\n",
       "      <th>2</th>\n",
       "      <th>3</th>\n",
       "      <th>4</th>\n",
       "    </tr>\n",
       "  </thead>\n",
       "  <tbody>\n",
       "    <tr>\n",
       "      <th>count</th>\n",
       "      <td>334.000000</td>\n",
       "      <td>334.000000</td>\n",
       "      <td>334.000000</td>\n",
       "      <td>334.000000</td>\n",
       "      <td>334.000000</td>\n",
       "    </tr>\n",
       "    <tr>\n",
       "      <th>mean</th>\n",
       "      <td>0.503621</td>\n",
       "      <td>0.501583</td>\n",
       "      <td>0.517943</td>\n",
       "      <td>0.515573</td>\n",
       "      <td>0.507060</td>\n",
       "    </tr>\n",
       "    <tr>\n",
       "      <th>std</th>\n",
       "      <td>0.281886</td>\n",
       "      <td>0.286446</td>\n",
       "      <td>0.293332</td>\n",
       "      <td>0.287878</td>\n",
       "      <td>0.287069</td>\n",
       "    </tr>\n",
       "    <tr>\n",
       "      <th>min</th>\n",
       "      <td>0.002164</td>\n",
       "      <td>0.000561</td>\n",
       "      <td>0.003179</td>\n",
       "      <td>0.005991</td>\n",
       "      <td>0.000669</td>\n",
       "    </tr>\n",
       "    <tr>\n",
       "      <th>25%</th>\n",
       "      <td>0.270020</td>\n",
       "      <td>0.253540</td>\n",
       "      <td>0.263466</td>\n",
       "      <td>0.271271</td>\n",
       "      <td>0.248223</td>\n",
       "    </tr>\n",
       "    <tr>\n",
       "      <th>50%</th>\n",
       "      <td>0.539326</td>\n",
       "      <td>0.508276</td>\n",
       "      <td>0.553819</td>\n",
       "      <td>0.538581</td>\n",
       "      <td>0.524324</td>\n",
       "    </tr>\n",
       "    <tr>\n",
       "      <th>75%</th>\n",
       "      <td>0.723191</td>\n",
       "      <td>0.732311</td>\n",
       "      <td>0.773907</td>\n",
       "      <td>0.746558</td>\n",
       "      <td>0.759183</td>\n",
       "    </tr>\n",
       "    <tr>\n",
       "      <th>max</th>\n",
       "      <td>0.996549</td>\n",
       "      <td>0.997745</td>\n",
       "      <td>0.999220</td>\n",
       "      <td>0.991296</td>\n",
       "      <td>0.999934</td>\n",
       "    </tr>\n",
       "  </tbody>\n",
       "</table>\n",
       "</div>"
      ],
      "text/plain": [
       "                0           1           2           3           4\n",
       "count  334.000000  334.000000  334.000000  334.000000  334.000000\n",
       "mean     0.503621    0.501583    0.517943    0.515573    0.507060\n",
       "std      0.281886    0.286446    0.293332    0.287878    0.287069\n",
       "min      0.002164    0.000561    0.003179    0.005991    0.000669\n",
       "25%      0.270020    0.253540    0.263466    0.271271    0.248223\n",
       "50%      0.539326    0.508276    0.553819    0.538581    0.524324\n",
       "75%      0.723191    0.732311    0.773907    0.746558    0.759183\n",
       "max      0.996549    0.997745    0.999220    0.991296    0.999934"
      ]
     },
     "execution_count": 26,
     "metadata": {},
     "output_type": "execute_result"
    }
   ],
   "source": [
    "newf.describe()"
   ]
  },
  {
   "cell_type": "code",
   "execution_count": 27,
   "id": "b9766511",
   "metadata": {},
   "outputs": [
    {
     "data": {
      "text/plain": [
       "0    float64\n",
       "1    float64\n",
       "2    float64\n",
       "3    float64\n",
       "4    float64\n",
       "dtype: object"
      ]
     },
     "execution_count": 27,
     "metadata": {},
     "output_type": "execute_result"
    }
   ],
   "source": [
    "newf.dtypes"
   ]
  },
  {
   "cell_type": "code",
   "execution_count": 28,
   "id": "537dc150",
   "metadata": {},
   "outputs": [],
   "source": [
    "newf[0][0]=\"faizan\""
   ]
  },
  {
   "cell_type": "code",
   "execution_count": 29,
   "id": "121d1cea",
   "metadata": {},
   "outputs": [
    {
     "data": {
      "text/plain": [
       "0     object\n",
       "1    float64\n",
       "2    float64\n",
       "3    float64\n",
       "4    float64\n",
       "dtype: object"
      ]
     },
     "execution_count": 29,
     "metadata": {},
     "output_type": "execute_result"
    }
   ],
   "source": [
    "newf.dtypes"
   ]
  },
  {
   "cell_type": "code",
   "execution_count": 30,
   "id": "70c346a5",
   "metadata": {},
   "outputs": [
    {
     "data": {
      "text/html": [
       "<div>\n",
       "<style scoped>\n",
       "    .dataframe tbody tr th:only-of-type {\n",
       "        vertical-align: middle;\n",
       "    }\n",
       "\n",
       "    .dataframe tbody tr th {\n",
       "        vertical-align: top;\n",
       "    }\n",
       "\n",
       "    .dataframe thead th {\n",
       "        text-align: right;\n",
       "    }\n",
       "</style>\n",
       "<table border=\"1\" class=\"dataframe\">\n",
       "  <thead>\n",
       "    <tr style=\"text-align: right;\">\n",
       "      <th></th>\n",
       "      <th>0</th>\n",
       "      <th>1</th>\n",
       "      <th>2</th>\n",
       "      <th>3</th>\n",
       "      <th>4</th>\n",
       "    </tr>\n",
       "  </thead>\n",
       "  <tbody>\n",
       "    <tr>\n",
       "      <th>0</th>\n",
       "      <td>faizan</td>\n",
       "      <td>0.143020</td>\n",
       "      <td>0.347843</td>\n",
       "      <td>0.680186</td>\n",
       "      <td>0.783925</td>\n",
       "    </tr>\n",
       "    <tr>\n",
       "      <th>1</th>\n",
       "      <td>0.080284</td>\n",
       "      <td>0.619411</td>\n",
       "      <td>0.637637</td>\n",
       "      <td>0.481598</td>\n",
       "      <td>0.149782</td>\n",
       "    </tr>\n",
       "    <tr>\n",
       "      <th>2</th>\n",
       "      <td>0.288158</td>\n",
       "      <td>0.780141</td>\n",
       "      <td>0.422168</td>\n",
       "      <td>0.604559</td>\n",
       "      <td>0.323094</td>\n",
       "    </tr>\n",
       "    <tr>\n",
       "      <th>3</th>\n",
       "      <td>0.821595</td>\n",
       "      <td>0.835345</td>\n",
       "      <td>0.714774</td>\n",
       "      <td>0.848404</td>\n",
       "      <td>0.046831</td>\n",
       "    </tr>\n",
       "    <tr>\n",
       "      <th>4</th>\n",
       "      <td>0.194477</td>\n",
       "      <td>0.447926</td>\n",
       "      <td>0.067030</td>\n",
       "      <td>0.888192</td>\n",
       "      <td>0.668843</td>\n",
       "    </tr>\n",
       "  </tbody>\n",
       "</table>\n",
       "</div>"
      ],
      "text/plain": [
       "          0         1         2         3         4\n",
       "0    faizan  0.143020  0.347843  0.680186  0.783925\n",
       "1  0.080284  0.619411  0.637637  0.481598  0.149782\n",
       "2  0.288158  0.780141  0.422168  0.604559  0.323094\n",
       "3  0.821595  0.835345  0.714774  0.848404  0.046831\n",
       "4  0.194477  0.447926  0.067030  0.888192  0.668843"
      ]
     },
     "execution_count": 30,
     "metadata": {},
     "output_type": "execute_result"
    }
   ],
   "source": [
    "newf.head()"
   ]
  },
  {
   "cell_type": "code",
   "execution_count": 31,
   "id": "7cafa45d",
   "metadata": {},
   "outputs": [
    {
     "data": {
      "text/plain": [
       "Int64Index([  0,   1,   2,   3,   4,   5,   6,   7,   8,   9,\n",
       "            ...\n",
       "            324, 325, 326, 327, 328, 329, 330, 331, 332, 333],\n",
       "           dtype='int64', length=334)"
      ]
     },
     "execution_count": 31,
     "metadata": {},
     "output_type": "execute_result"
    }
   ],
   "source": [
    "newf.index"
   ]
  },
  {
   "cell_type": "code",
   "execution_count": 32,
   "id": "bbe7d24e",
   "metadata": {},
   "outputs": [
    {
     "data": {
      "text/plain": [
       "RangeIndex(start=0, stop=5, step=1)"
      ]
     },
     "execution_count": 32,
     "metadata": {},
     "output_type": "execute_result"
    }
   ],
   "source": [
    "newf.columns"
   ]
  },
  {
   "cell_type": "code",
   "execution_count": 33,
   "id": "916b07cb",
   "metadata": {},
   "outputs": [
    {
     "data": {
      "text/plain": [
       "array([['faizan', 0.14301951064950624, 0.3478429554824999,\n",
       "        0.6801862794910035, 0.7839254600724553],\n",
       "       [0.08028421761498328, 0.6194112253626012, 0.6376368181892256,\n",
       "        0.4815980709343287, 0.14978236370056752],\n",
       "       [0.2881584833142179, 0.7801414126196698, 0.422167587708846,\n",
       "        0.6045586788711486, 0.3230939797748008],\n",
       "       ...,\n",
       "       [0.713657441081514, 0.12336206421494522, 0.12081902280406076,\n",
       "        0.19956483337877762, 0.13938818582205093],\n",
       "       [0.9228363403816325, 0.8537387511646133, 0.8459743140075452,\n",
       "        0.19233671794597262, 0.7436897983286764],\n",
       "       [0.4735984439798341, 0.7863402360346695, 0.9271897651927223,\n",
       "        0.8298924041137469, 0.6859707585374365]], dtype=object)"
      ]
     },
     "execution_count": 33,
     "metadata": {},
     "output_type": "execute_result"
    }
   ],
   "source": [
    "#How to convert into numpy array\n",
    "\n",
    "newf.to_numpy()"
   ]
  },
  {
   "cell_type": "code",
   "execution_count": 34,
   "id": "2e1ac629",
   "metadata": {},
   "outputs": [
    {
     "name": "stderr",
     "output_type": "stream",
     "text": [
      "<ipython-input-34-79db92ebd215>:1: SettingWithCopyWarning: \n",
      "A value is trying to be set on a copy of a slice from a DataFrame\n",
      "\n",
      "See the caveats in the documentation: https://pandas.pydata.org/pandas-docs/stable/user_guide/indexing.html#returning-a-view-versus-a-copy\n",
      "  newf[0][0] = 0.2323\n"
     ]
    }
   ],
   "source": [
    "newf[0][0] = 0.2323"
   ]
  },
  {
   "cell_type": "code",
   "execution_count": 35,
   "id": "a0b798d9",
   "metadata": {},
   "outputs": [
    {
     "data": {
      "text/html": [
       "<div>\n",
       "<style scoped>\n",
       "    .dataframe tbody tr th:only-of-type {\n",
       "        vertical-align: middle;\n",
       "    }\n",
       "\n",
       "    .dataframe tbody tr th {\n",
       "        vertical-align: top;\n",
       "    }\n",
       "\n",
       "    .dataframe thead th {\n",
       "        text-align: right;\n",
       "    }\n",
       "</style>\n",
       "<table border=\"1\" class=\"dataframe\">\n",
       "  <thead>\n",
       "    <tr style=\"text-align: right;\">\n",
       "      <th></th>\n",
       "      <th>0</th>\n",
       "      <th>1</th>\n",
       "      <th>2</th>\n",
       "      <th>3</th>\n",
       "      <th>4</th>\n",
       "    </tr>\n",
       "  </thead>\n",
       "  <tbody>\n",
       "    <tr>\n",
       "      <th>0</th>\n",
       "      <td>0.2323</td>\n",
       "      <td>0.143020</td>\n",
       "      <td>0.347843</td>\n",
       "      <td>0.680186</td>\n",
       "      <td>0.783925</td>\n",
       "    </tr>\n",
       "    <tr>\n",
       "      <th>1</th>\n",
       "      <td>0.080284</td>\n",
       "      <td>0.619411</td>\n",
       "      <td>0.637637</td>\n",
       "      <td>0.481598</td>\n",
       "      <td>0.149782</td>\n",
       "    </tr>\n",
       "    <tr>\n",
       "      <th>2</th>\n",
       "      <td>0.288158</td>\n",
       "      <td>0.780141</td>\n",
       "      <td>0.422168</td>\n",
       "      <td>0.604559</td>\n",
       "      <td>0.323094</td>\n",
       "    </tr>\n",
       "    <tr>\n",
       "      <th>3</th>\n",
       "      <td>0.821595</td>\n",
       "      <td>0.835345</td>\n",
       "      <td>0.714774</td>\n",
       "      <td>0.848404</td>\n",
       "      <td>0.046831</td>\n",
       "    </tr>\n",
       "    <tr>\n",
       "      <th>4</th>\n",
       "      <td>0.194477</td>\n",
       "      <td>0.447926</td>\n",
       "      <td>0.067030</td>\n",
       "      <td>0.888192</td>\n",
       "      <td>0.668843</td>\n",
       "    </tr>\n",
       "  </tbody>\n",
       "</table>\n",
       "</div>"
      ],
      "text/plain": [
       "          0         1         2         3         4\n",
       "0    0.2323  0.143020  0.347843  0.680186  0.783925\n",
       "1  0.080284  0.619411  0.637637  0.481598  0.149782\n",
       "2  0.288158  0.780141  0.422168  0.604559  0.323094\n",
       "3  0.821595  0.835345  0.714774  0.848404  0.046831\n",
       "4  0.194477  0.447926  0.067030  0.888192  0.668843"
      ]
     },
     "execution_count": 35,
     "metadata": {},
     "output_type": "execute_result"
    }
   ],
   "source": [
    "newf.head()"
   ]
  },
  {
   "cell_type": "code",
   "execution_count": 36,
   "id": "f66f6528",
   "metadata": {},
   "outputs": [
    {
     "data": {
      "text/html": [
       "<div>\n",
       "<style scoped>\n",
       "    .dataframe tbody tr th:only-of-type {\n",
       "        vertical-align: middle;\n",
       "    }\n",
       "\n",
       "    .dataframe tbody tr th {\n",
       "        vertical-align: top;\n",
       "    }\n",
       "\n",
       "    .dataframe thead th {\n",
       "        text-align: right;\n",
       "    }\n",
       "</style>\n",
       "<table border=\"1\" class=\"dataframe\">\n",
       "  <thead>\n",
       "    <tr style=\"text-align: right;\">\n",
       "      <th></th>\n",
       "      <th>0</th>\n",
       "      <th>1</th>\n",
       "      <th>2</th>\n",
       "      <th>3</th>\n",
       "      <th>4</th>\n",
       "      <th>5</th>\n",
       "      <th>6</th>\n",
       "      <th>7</th>\n",
       "      <th>8</th>\n",
       "      <th>9</th>\n",
       "      <th>...</th>\n",
       "      <th>324</th>\n",
       "      <th>325</th>\n",
       "      <th>326</th>\n",
       "      <th>327</th>\n",
       "      <th>328</th>\n",
       "      <th>329</th>\n",
       "      <th>330</th>\n",
       "      <th>331</th>\n",
       "      <th>332</th>\n",
       "      <th>333</th>\n",
       "    </tr>\n",
       "  </thead>\n",
       "  <tbody>\n",
       "    <tr>\n",
       "      <th>0</th>\n",
       "      <td>0.2323</td>\n",
       "      <td>0.080284</td>\n",
       "      <td>0.288158</td>\n",
       "      <td>0.821595</td>\n",
       "      <td>0.194477</td>\n",
       "      <td>0.73571</td>\n",
       "      <td>0.266905</td>\n",
       "      <td>0.47846</td>\n",
       "      <td>0.565582</td>\n",
       "      <td>0.543865</td>\n",
       "      <td>...</td>\n",
       "      <td>0.989249</td>\n",
       "      <td>0.289202</td>\n",
       "      <td>0.36402</td>\n",
       "      <td>0.16556</td>\n",
       "      <td>0.719793</td>\n",
       "      <td>0.990653</td>\n",
       "      <td>0.969764</td>\n",
       "      <td>0.713657</td>\n",
       "      <td>0.922836</td>\n",
       "      <td>0.473598</td>\n",
       "    </tr>\n",
       "    <tr>\n",
       "      <th>1</th>\n",
       "      <td>0.14302</td>\n",
       "      <td>0.619411</td>\n",
       "      <td>0.780141</td>\n",
       "      <td>0.835345</td>\n",
       "      <td>0.447926</td>\n",
       "      <td>0.265383</td>\n",
       "      <td>0.917742</td>\n",
       "      <td>0.7938</td>\n",
       "      <td>0.941969</td>\n",
       "      <td>0.378497</td>\n",
       "      <td>...</td>\n",
       "      <td>0.655892</td>\n",
       "      <td>0.0871</td>\n",
       "      <td>0.755674</td>\n",
       "      <td>0.595945</td>\n",
       "      <td>0.397436</td>\n",
       "      <td>0.565961</td>\n",
       "      <td>0.163666</td>\n",
       "      <td>0.123362</td>\n",
       "      <td>0.853739</td>\n",
       "      <td>0.78634</td>\n",
       "    </tr>\n",
       "    <tr>\n",
       "      <th>2</th>\n",
       "      <td>0.347843</td>\n",
       "      <td>0.637637</td>\n",
       "      <td>0.422168</td>\n",
       "      <td>0.714774</td>\n",
       "      <td>0.06703</td>\n",
       "      <td>0.856206</td>\n",
       "      <td>0.578764</td>\n",
       "      <td>0.176237</td>\n",
       "      <td>0.743523</td>\n",
       "      <td>0.640874</td>\n",
       "      <td>...</td>\n",
       "      <td>0.069464</td>\n",
       "      <td>0.229957</td>\n",
       "      <td>0.040716</td>\n",
       "      <td>0.117874</td>\n",
       "      <td>0.228917</td>\n",
       "      <td>0.722428</td>\n",
       "      <td>0.908799</td>\n",
       "      <td>0.120819</td>\n",
       "      <td>0.845974</td>\n",
       "      <td>0.92719</td>\n",
       "    </tr>\n",
       "    <tr>\n",
       "      <th>3</th>\n",
       "      <td>0.680186</td>\n",
       "      <td>0.481598</td>\n",
       "      <td>0.604559</td>\n",
       "      <td>0.848404</td>\n",
       "      <td>0.888192</td>\n",
       "      <td>0.431683</td>\n",
       "      <td>0.354202</td>\n",
       "      <td>0.938956</td>\n",
       "      <td>0.740558</td>\n",
       "      <td>0.809717</td>\n",
       "      <td>...</td>\n",
       "      <td>0.121985</td>\n",
       "      <td>0.699613</td>\n",
       "      <td>0.718601</td>\n",
       "      <td>0.667574</td>\n",
       "      <td>0.316802</td>\n",
       "      <td>0.009092</td>\n",
       "      <td>0.616855</td>\n",
       "      <td>0.199565</td>\n",
       "      <td>0.192337</td>\n",
       "      <td>0.829892</td>\n",
       "    </tr>\n",
       "    <tr>\n",
       "      <th>4</th>\n",
       "      <td>0.783925</td>\n",
       "      <td>0.149782</td>\n",
       "      <td>0.323094</td>\n",
       "      <td>0.046831</td>\n",
       "      <td>0.668843</td>\n",
       "      <td>0.976627</td>\n",
       "      <td>0.668903</td>\n",
       "      <td>0.523783</td>\n",
       "      <td>0.120546</td>\n",
       "      <td>0.401282</td>\n",
       "      <td>...</td>\n",
       "      <td>0.724585</td>\n",
       "      <td>0.337702</td>\n",
       "      <td>0.673796</td>\n",
       "      <td>0.839208</td>\n",
       "      <td>0.798943</td>\n",
       "      <td>0.944413</td>\n",
       "      <td>0.24412</td>\n",
       "      <td>0.139388</td>\n",
       "      <td>0.74369</td>\n",
       "      <td>0.685971</td>\n",
       "    </tr>\n",
       "  </tbody>\n",
       "</table>\n",
       "<p>5 rows × 334 columns</p>\n",
       "</div>"
      ],
      "text/plain": [
       "        0         1         2         3         4         5         6    \\\n",
       "0    0.2323  0.080284  0.288158  0.821595  0.194477   0.73571  0.266905   \n",
       "1   0.14302  0.619411  0.780141  0.835345  0.447926  0.265383  0.917742   \n",
       "2  0.347843  0.637637  0.422168  0.714774   0.06703  0.856206  0.578764   \n",
       "3  0.680186  0.481598  0.604559  0.848404  0.888192  0.431683  0.354202   \n",
       "4  0.783925  0.149782  0.323094  0.046831  0.668843  0.976627  0.668903   \n",
       "\n",
       "        7         8         9    ...       324       325       326       327  \\\n",
       "0   0.47846  0.565582  0.543865  ...  0.989249  0.289202   0.36402   0.16556   \n",
       "1    0.7938  0.941969  0.378497  ...  0.655892    0.0871  0.755674  0.595945   \n",
       "2  0.176237  0.743523  0.640874  ...  0.069464  0.229957  0.040716  0.117874   \n",
       "3  0.938956  0.740558  0.809717  ...  0.121985  0.699613  0.718601  0.667574   \n",
       "4  0.523783  0.120546  0.401282  ...  0.724585  0.337702  0.673796  0.839208   \n",
       "\n",
       "        328       329       330       331       332       333  \n",
       "0  0.719793  0.990653  0.969764  0.713657  0.922836  0.473598  \n",
       "1  0.397436  0.565961  0.163666  0.123362  0.853739   0.78634  \n",
       "2  0.228917  0.722428  0.908799  0.120819  0.845974   0.92719  \n",
       "3  0.316802  0.009092  0.616855  0.199565  0.192337  0.829892  \n",
       "4  0.798943  0.944413   0.24412  0.139388   0.74369  0.685971  \n",
       "\n",
       "[5 rows x 334 columns]"
      ]
     },
     "execution_count": 36,
     "metadata": {},
     "output_type": "execute_result"
    }
   ],
   "source": [
    "# For Transpose the data\n",
    "\n",
    "newf.T"
   ]
  },
  {
   "cell_type": "code",
   "execution_count": 37,
   "id": "00e84a66",
   "metadata": {},
   "outputs": [
    {
     "data": {
      "text/html": [
       "<div>\n",
       "<style scoped>\n",
       "    .dataframe tbody tr th:only-of-type {\n",
       "        vertical-align: middle;\n",
       "    }\n",
       "\n",
       "    .dataframe tbody tr th {\n",
       "        vertical-align: top;\n",
       "    }\n",
       "\n",
       "    .dataframe thead th {\n",
       "        text-align: right;\n",
       "    }\n",
       "</style>\n",
       "<table border=\"1\" class=\"dataframe\">\n",
       "  <thead>\n",
       "    <tr style=\"text-align: right;\">\n",
       "      <th></th>\n",
       "      <th>0</th>\n",
       "      <th>1</th>\n",
       "      <th>2</th>\n",
       "      <th>3</th>\n",
       "      <th>4</th>\n",
       "    </tr>\n",
       "  </thead>\n",
       "  <tbody>\n",
       "    <tr>\n",
       "      <th>0</th>\n",
       "      <td>0.2323</td>\n",
       "      <td>0.143020</td>\n",
       "      <td>0.347843</td>\n",
       "      <td>0.680186</td>\n",
       "      <td>0.783925</td>\n",
       "    </tr>\n",
       "    <tr>\n",
       "      <th>1</th>\n",
       "      <td>0.080284</td>\n",
       "      <td>0.619411</td>\n",
       "      <td>0.637637</td>\n",
       "      <td>0.481598</td>\n",
       "      <td>0.149782</td>\n",
       "    </tr>\n",
       "    <tr>\n",
       "      <th>2</th>\n",
       "      <td>0.288158</td>\n",
       "      <td>0.780141</td>\n",
       "      <td>0.422168</td>\n",
       "      <td>0.604559</td>\n",
       "      <td>0.323094</td>\n",
       "    </tr>\n",
       "    <tr>\n",
       "      <th>3</th>\n",
       "      <td>0.821595</td>\n",
       "      <td>0.835345</td>\n",
       "      <td>0.714774</td>\n",
       "      <td>0.848404</td>\n",
       "      <td>0.046831</td>\n",
       "    </tr>\n",
       "    <tr>\n",
       "      <th>4</th>\n",
       "      <td>0.194477</td>\n",
       "      <td>0.447926</td>\n",
       "      <td>0.067030</td>\n",
       "      <td>0.888192</td>\n",
       "      <td>0.668843</td>\n",
       "    </tr>\n",
       "  </tbody>\n",
       "</table>\n",
       "</div>"
      ],
      "text/plain": [
       "          0         1         2         3         4\n",
       "0    0.2323  0.143020  0.347843  0.680186  0.783925\n",
       "1  0.080284  0.619411  0.637637  0.481598  0.149782\n",
       "2  0.288158  0.780141  0.422168  0.604559  0.323094\n",
       "3  0.821595  0.835345  0.714774  0.848404  0.046831\n",
       "4  0.194477  0.447926  0.067030  0.888192  0.668843"
      ]
     },
     "execution_count": 37,
     "metadata": {},
     "output_type": "execute_result"
    }
   ],
   "source": [
    "newf.head()"
   ]
  },
  {
   "cell_type": "code",
   "execution_count": 38,
   "id": "a67cfccd",
   "metadata": {},
   "outputs": [
    {
     "data": {
      "text/html": [
       "<div>\n",
       "<style scoped>\n",
       "    .dataframe tbody tr th:only-of-type {\n",
       "        vertical-align: middle;\n",
       "    }\n",
       "\n",
       "    .dataframe tbody tr th {\n",
       "        vertical-align: top;\n",
       "    }\n",
       "\n",
       "    .dataframe thead th {\n",
       "        text-align: right;\n",
       "    }\n",
       "</style>\n",
       "<table border=\"1\" class=\"dataframe\">\n",
       "  <thead>\n",
       "    <tr style=\"text-align: right;\">\n",
       "      <th></th>\n",
       "      <th>0</th>\n",
       "      <th>1</th>\n",
       "      <th>2</th>\n",
       "      <th>3</th>\n",
       "      <th>4</th>\n",
       "    </tr>\n",
       "  </thead>\n",
       "  <tbody>\n",
       "    <tr>\n",
       "      <th>333</th>\n",
       "      <td>0.473598</td>\n",
       "      <td>0.786340</td>\n",
       "      <td>0.927190</td>\n",
       "      <td>0.829892</td>\n",
       "      <td>0.685971</td>\n",
       "    </tr>\n",
       "    <tr>\n",
       "      <th>332</th>\n",
       "      <td>0.922836</td>\n",
       "      <td>0.853739</td>\n",
       "      <td>0.845974</td>\n",
       "      <td>0.192337</td>\n",
       "      <td>0.743690</td>\n",
       "    </tr>\n",
       "    <tr>\n",
       "      <th>331</th>\n",
       "      <td>0.713657</td>\n",
       "      <td>0.123362</td>\n",
       "      <td>0.120819</td>\n",
       "      <td>0.199565</td>\n",
       "      <td>0.139388</td>\n",
       "    </tr>\n",
       "    <tr>\n",
       "      <th>330</th>\n",
       "      <td>0.969764</td>\n",
       "      <td>0.163666</td>\n",
       "      <td>0.908799</td>\n",
       "      <td>0.616855</td>\n",
       "      <td>0.244120</td>\n",
       "    </tr>\n",
       "    <tr>\n",
       "      <th>329</th>\n",
       "      <td>0.990653</td>\n",
       "      <td>0.565961</td>\n",
       "      <td>0.722428</td>\n",
       "      <td>0.009092</td>\n",
       "      <td>0.944413</td>\n",
       "    </tr>\n",
       "    <tr>\n",
       "      <th>...</th>\n",
       "      <td>...</td>\n",
       "      <td>...</td>\n",
       "      <td>...</td>\n",
       "      <td>...</td>\n",
       "      <td>...</td>\n",
       "    </tr>\n",
       "    <tr>\n",
       "      <th>4</th>\n",
       "      <td>0.194477</td>\n",
       "      <td>0.447926</td>\n",
       "      <td>0.067030</td>\n",
       "      <td>0.888192</td>\n",
       "      <td>0.668843</td>\n",
       "    </tr>\n",
       "    <tr>\n",
       "      <th>3</th>\n",
       "      <td>0.821595</td>\n",
       "      <td>0.835345</td>\n",
       "      <td>0.714774</td>\n",
       "      <td>0.848404</td>\n",
       "      <td>0.046831</td>\n",
       "    </tr>\n",
       "    <tr>\n",
       "      <th>2</th>\n",
       "      <td>0.288158</td>\n",
       "      <td>0.780141</td>\n",
       "      <td>0.422168</td>\n",
       "      <td>0.604559</td>\n",
       "      <td>0.323094</td>\n",
       "    </tr>\n",
       "    <tr>\n",
       "      <th>1</th>\n",
       "      <td>0.080284</td>\n",
       "      <td>0.619411</td>\n",
       "      <td>0.637637</td>\n",
       "      <td>0.481598</td>\n",
       "      <td>0.149782</td>\n",
       "    </tr>\n",
       "    <tr>\n",
       "      <th>0</th>\n",
       "      <td>0.2323</td>\n",
       "      <td>0.143020</td>\n",
       "      <td>0.347843</td>\n",
       "      <td>0.680186</td>\n",
       "      <td>0.783925</td>\n",
       "    </tr>\n",
       "  </tbody>\n",
       "</table>\n",
       "<p>334 rows × 5 columns</p>\n",
       "</div>"
      ],
      "text/plain": [
       "            0         1         2         3         4\n",
       "333  0.473598  0.786340  0.927190  0.829892  0.685971\n",
       "332  0.922836  0.853739  0.845974  0.192337  0.743690\n",
       "331  0.713657  0.123362  0.120819  0.199565  0.139388\n",
       "330  0.969764  0.163666  0.908799  0.616855  0.244120\n",
       "329  0.990653  0.565961  0.722428  0.009092  0.944413\n",
       "..        ...       ...       ...       ...       ...\n",
       "4    0.194477  0.447926  0.067030  0.888192  0.668843\n",
       "3    0.821595  0.835345  0.714774  0.848404  0.046831\n",
       "2    0.288158  0.780141  0.422168  0.604559  0.323094\n",
       "1    0.080284  0.619411  0.637637  0.481598  0.149782\n",
       "0      0.2323  0.143020  0.347843  0.680186  0.783925\n",
       "\n",
       "[334 rows x 5 columns]"
      ]
     },
     "execution_count": 38,
     "metadata": {},
     "output_type": "execute_result"
    }
   ],
   "source": [
    "# It's sort into the row in decending order\n",
    "\n",
    "newf.sort_index(axis=0,ascending = False)"
   ]
  },
  {
   "cell_type": "code",
   "execution_count": 39,
   "id": "188db5a3",
   "metadata": {},
   "outputs": [
    {
     "data": {
      "text/html": [
       "<div>\n",
       "<style scoped>\n",
       "    .dataframe tbody tr th:only-of-type {\n",
       "        vertical-align: middle;\n",
       "    }\n",
       "\n",
       "    .dataframe tbody tr th {\n",
       "        vertical-align: top;\n",
       "    }\n",
       "\n",
       "    .dataframe thead th {\n",
       "        text-align: right;\n",
       "    }\n",
       "</style>\n",
       "<table border=\"1\" class=\"dataframe\">\n",
       "  <thead>\n",
       "    <tr style=\"text-align: right;\">\n",
       "      <th></th>\n",
       "      <th>4</th>\n",
       "      <th>3</th>\n",
       "      <th>2</th>\n",
       "      <th>1</th>\n",
       "      <th>0</th>\n",
       "    </tr>\n",
       "  </thead>\n",
       "  <tbody>\n",
       "    <tr>\n",
       "      <th>0</th>\n",
       "      <td>0.783925</td>\n",
       "      <td>0.680186</td>\n",
       "      <td>0.347843</td>\n",
       "      <td>0.143020</td>\n",
       "      <td>0.2323</td>\n",
       "    </tr>\n",
       "    <tr>\n",
       "      <th>1</th>\n",
       "      <td>0.149782</td>\n",
       "      <td>0.481598</td>\n",
       "      <td>0.637637</td>\n",
       "      <td>0.619411</td>\n",
       "      <td>0.080284</td>\n",
       "    </tr>\n",
       "    <tr>\n",
       "      <th>2</th>\n",
       "      <td>0.323094</td>\n",
       "      <td>0.604559</td>\n",
       "      <td>0.422168</td>\n",
       "      <td>0.780141</td>\n",
       "      <td>0.288158</td>\n",
       "    </tr>\n",
       "    <tr>\n",
       "      <th>3</th>\n",
       "      <td>0.046831</td>\n",
       "      <td>0.848404</td>\n",
       "      <td>0.714774</td>\n",
       "      <td>0.835345</td>\n",
       "      <td>0.821595</td>\n",
       "    </tr>\n",
       "    <tr>\n",
       "      <th>4</th>\n",
       "      <td>0.668843</td>\n",
       "      <td>0.888192</td>\n",
       "      <td>0.067030</td>\n",
       "      <td>0.447926</td>\n",
       "      <td>0.194477</td>\n",
       "    </tr>\n",
       "    <tr>\n",
       "      <th>...</th>\n",
       "      <td>...</td>\n",
       "      <td>...</td>\n",
       "      <td>...</td>\n",
       "      <td>...</td>\n",
       "      <td>...</td>\n",
       "    </tr>\n",
       "    <tr>\n",
       "      <th>329</th>\n",
       "      <td>0.944413</td>\n",
       "      <td>0.009092</td>\n",
       "      <td>0.722428</td>\n",
       "      <td>0.565961</td>\n",
       "      <td>0.990653</td>\n",
       "    </tr>\n",
       "    <tr>\n",
       "      <th>330</th>\n",
       "      <td>0.244120</td>\n",
       "      <td>0.616855</td>\n",
       "      <td>0.908799</td>\n",
       "      <td>0.163666</td>\n",
       "      <td>0.969764</td>\n",
       "    </tr>\n",
       "    <tr>\n",
       "      <th>331</th>\n",
       "      <td>0.139388</td>\n",
       "      <td>0.199565</td>\n",
       "      <td>0.120819</td>\n",
       "      <td>0.123362</td>\n",
       "      <td>0.713657</td>\n",
       "    </tr>\n",
       "    <tr>\n",
       "      <th>332</th>\n",
       "      <td>0.743690</td>\n",
       "      <td>0.192337</td>\n",
       "      <td>0.845974</td>\n",
       "      <td>0.853739</td>\n",
       "      <td>0.922836</td>\n",
       "    </tr>\n",
       "    <tr>\n",
       "      <th>333</th>\n",
       "      <td>0.685971</td>\n",
       "      <td>0.829892</td>\n",
       "      <td>0.927190</td>\n",
       "      <td>0.786340</td>\n",
       "      <td>0.473598</td>\n",
       "    </tr>\n",
       "  </tbody>\n",
       "</table>\n",
       "<p>334 rows × 5 columns</p>\n",
       "</div>"
      ],
      "text/plain": [
       "            4         3         2         1         0\n",
       "0    0.783925  0.680186  0.347843  0.143020    0.2323\n",
       "1    0.149782  0.481598  0.637637  0.619411  0.080284\n",
       "2    0.323094  0.604559  0.422168  0.780141  0.288158\n",
       "3    0.046831  0.848404  0.714774  0.835345  0.821595\n",
       "4    0.668843  0.888192  0.067030  0.447926  0.194477\n",
       "..        ...       ...       ...       ...       ...\n",
       "329  0.944413  0.009092  0.722428  0.565961  0.990653\n",
       "330  0.244120  0.616855  0.908799  0.163666  0.969764\n",
       "331  0.139388  0.199565  0.120819  0.123362  0.713657\n",
       "332  0.743690  0.192337  0.845974  0.853739  0.922836\n",
       "333  0.685971  0.829892  0.927190  0.786340  0.473598\n",
       "\n",
       "[334 rows x 5 columns]"
      ]
     },
     "execution_count": 39,
     "metadata": {},
     "output_type": "execute_result"
    }
   ],
   "source": [
    "# It's sort into column in decending order\n",
    "\n",
    "newf.sort_index(axis=1,ascending = False)"
   ]
  },
  {
   "cell_type": "code",
   "execution_count": 40,
   "id": "fa522e7d",
   "metadata": {},
   "outputs": [
    {
     "data": {
      "text/html": [
       "<div>\n",
       "<style scoped>\n",
       "    .dataframe tbody tr th:only-of-type {\n",
       "        vertical-align: middle;\n",
       "    }\n",
       "\n",
       "    .dataframe tbody tr th {\n",
       "        vertical-align: top;\n",
       "    }\n",
       "\n",
       "    .dataframe thead th {\n",
       "        text-align: right;\n",
       "    }\n",
       "</style>\n",
       "<table border=\"1\" class=\"dataframe\">\n",
       "  <thead>\n",
       "    <tr style=\"text-align: right;\">\n",
       "      <th></th>\n",
       "      <th>0</th>\n",
       "      <th>1</th>\n",
       "      <th>2</th>\n",
       "      <th>3</th>\n",
       "      <th>4</th>\n",
       "    </tr>\n",
       "  </thead>\n",
       "  <tbody>\n",
       "    <tr>\n",
       "      <th>0</th>\n",
       "      <td>0.2323</td>\n",
       "      <td>0.143020</td>\n",
       "      <td>0.347843</td>\n",
       "      <td>0.680186</td>\n",
       "      <td>0.783925</td>\n",
       "    </tr>\n",
       "    <tr>\n",
       "      <th>1</th>\n",
       "      <td>0.080284</td>\n",
       "      <td>0.619411</td>\n",
       "      <td>0.637637</td>\n",
       "      <td>0.481598</td>\n",
       "      <td>0.149782</td>\n",
       "    </tr>\n",
       "    <tr>\n",
       "      <th>2</th>\n",
       "      <td>0.288158</td>\n",
       "      <td>0.780141</td>\n",
       "      <td>0.422168</td>\n",
       "      <td>0.604559</td>\n",
       "      <td>0.323094</td>\n",
       "    </tr>\n",
       "    <tr>\n",
       "      <th>3</th>\n",
       "      <td>0.821595</td>\n",
       "      <td>0.835345</td>\n",
       "      <td>0.714774</td>\n",
       "      <td>0.848404</td>\n",
       "      <td>0.046831</td>\n",
       "    </tr>\n",
       "    <tr>\n",
       "      <th>4</th>\n",
       "      <td>0.194477</td>\n",
       "      <td>0.447926</td>\n",
       "      <td>0.067030</td>\n",
       "      <td>0.888192</td>\n",
       "      <td>0.668843</td>\n",
       "    </tr>\n",
       "  </tbody>\n",
       "</table>\n",
       "</div>"
      ],
      "text/plain": [
       "          0         1         2         3         4\n",
       "0    0.2323  0.143020  0.347843  0.680186  0.783925\n",
       "1  0.080284  0.619411  0.637637  0.481598  0.149782\n",
       "2  0.288158  0.780141  0.422168  0.604559  0.323094\n",
       "3  0.821595  0.835345  0.714774  0.848404  0.046831\n",
       "4  0.194477  0.447926  0.067030  0.888192  0.668843"
      ]
     },
     "execution_count": 40,
     "metadata": {},
     "output_type": "execute_result"
    }
   ],
   "source": [
    "newf.head()"
   ]
  },
  {
   "cell_type": "code",
   "execution_count": 41,
   "id": "cd22026d",
   "metadata": {},
   "outputs": [
    {
     "data": {
      "text/plain": [
       "0        0.2323\n",
       "1      0.080284\n",
       "2      0.288158\n",
       "3      0.821595\n",
       "4      0.194477\n",
       "         ...   \n",
       "329    0.990653\n",
       "330    0.969764\n",
       "331    0.713657\n",
       "332    0.922836\n",
       "333    0.473598\n",
       "Name: 0, Length: 334, dtype: object"
      ]
     },
     "execution_count": 41,
     "metadata": {},
     "output_type": "execute_result"
    }
   ],
   "source": [
    "newf[0]"
   ]
  },
  {
   "cell_type": "code",
   "execution_count": 42,
   "id": "635010d6",
   "metadata": {},
   "outputs": [
    {
     "data": {
      "text/plain": [
       "pandas.core.series.Series"
      ]
     },
     "execution_count": 42,
     "metadata": {},
     "output_type": "execute_result"
    }
   ],
   "source": [
    "type(newf[0])"
   ]
  },
  {
   "cell_type": "markdown",
   "id": "62f8bee6",
   "metadata": {},
   "source": [
    "**Data Frame form through the combination of series**"
   ]
  },
  {
   "cell_type": "code",
   "execution_count": 43,
   "id": "613d51e1",
   "metadata": {},
   "outputs": [],
   "source": [
    "newf2 = newf"
   ]
  },
  {
   "cell_type": "code",
   "execution_count": 44,
   "id": "81d07d18",
   "metadata": {},
   "outputs": [
    {
     "name": "stderr",
     "output_type": "stream",
     "text": [
      "<ipython-input-44-8765462d7785>:3: SettingWithCopyWarning: \n",
      "A value is trying to be set on a copy of a slice from a DataFrame\n",
      "\n",
      "See the caveats in the documentation: https://pandas.pydata.org/pandas-docs/stable/user_guide/indexing.html#returning-a-view-versus-a-copy\n",
      "  newf2[0][0] = 9783\n"
     ]
    }
   ],
   "source": [
    "# here newf2 is the view\n",
    "\n",
    "newf2[0][0] = 9783"
   ]
  },
  {
   "cell_type": "code",
   "execution_count": 45,
   "id": "f5585228",
   "metadata": {},
   "outputs": [
    {
     "data": {
      "text/html": [
       "<div>\n",
       "<style scoped>\n",
       "    .dataframe tbody tr th:only-of-type {\n",
       "        vertical-align: middle;\n",
       "    }\n",
       "\n",
       "    .dataframe tbody tr th {\n",
       "        vertical-align: top;\n",
       "    }\n",
       "\n",
       "    .dataframe thead th {\n",
       "        text-align: right;\n",
       "    }\n",
       "</style>\n",
       "<table border=\"1\" class=\"dataframe\">\n",
       "  <thead>\n",
       "    <tr style=\"text-align: right;\">\n",
       "      <th></th>\n",
       "      <th>0</th>\n",
       "      <th>1</th>\n",
       "      <th>2</th>\n",
       "      <th>3</th>\n",
       "      <th>4</th>\n",
       "    </tr>\n",
       "  </thead>\n",
       "  <tbody>\n",
       "    <tr>\n",
       "      <th>0</th>\n",
       "      <td>9783</td>\n",
       "      <td>0.143020</td>\n",
       "      <td>0.347843</td>\n",
       "      <td>0.680186</td>\n",
       "      <td>0.783925</td>\n",
       "    </tr>\n",
       "    <tr>\n",
       "      <th>1</th>\n",
       "      <td>0.080284</td>\n",
       "      <td>0.619411</td>\n",
       "      <td>0.637637</td>\n",
       "      <td>0.481598</td>\n",
       "      <td>0.149782</td>\n",
       "    </tr>\n",
       "    <tr>\n",
       "      <th>2</th>\n",
       "      <td>0.288158</td>\n",
       "      <td>0.780141</td>\n",
       "      <td>0.422168</td>\n",
       "      <td>0.604559</td>\n",
       "      <td>0.323094</td>\n",
       "    </tr>\n",
       "    <tr>\n",
       "      <th>3</th>\n",
       "      <td>0.821595</td>\n",
       "      <td>0.835345</td>\n",
       "      <td>0.714774</td>\n",
       "      <td>0.848404</td>\n",
       "      <td>0.046831</td>\n",
       "    </tr>\n",
       "    <tr>\n",
       "      <th>4</th>\n",
       "      <td>0.194477</td>\n",
       "      <td>0.447926</td>\n",
       "      <td>0.067030</td>\n",
       "      <td>0.888192</td>\n",
       "      <td>0.668843</td>\n",
       "    </tr>\n",
       "    <tr>\n",
       "      <th>...</th>\n",
       "      <td>...</td>\n",
       "      <td>...</td>\n",
       "      <td>...</td>\n",
       "      <td>...</td>\n",
       "      <td>...</td>\n",
       "    </tr>\n",
       "    <tr>\n",
       "      <th>329</th>\n",
       "      <td>0.990653</td>\n",
       "      <td>0.565961</td>\n",
       "      <td>0.722428</td>\n",
       "      <td>0.009092</td>\n",
       "      <td>0.944413</td>\n",
       "    </tr>\n",
       "    <tr>\n",
       "      <th>330</th>\n",
       "      <td>0.969764</td>\n",
       "      <td>0.163666</td>\n",
       "      <td>0.908799</td>\n",
       "      <td>0.616855</td>\n",
       "      <td>0.244120</td>\n",
       "    </tr>\n",
       "    <tr>\n",
       "      <th>331</th>\n",
       "      <td>0.713657</td>\n",
       "      <td>0.123362</td>\n",
       "      <td>0.120819</td>\n",
       "      <td>0.199565</td>\n",
       "      <td>0.139388</td>\n",
       "    </tr>\n",
       "    <tr>\n",
       "      <th>332</th>\n",
       "      <td>0.922836</td>\n",
       "      <td>0.853739</td>\n",
       "      <td>0.845974</td>\n",
       "      <td>0.192337</td>\n",
       "      <td>0.743690</td>\n",
       "    </tr>\n",
       "    <tr>\n",
       "      <th>333</th>\n",
       "      <td>0.473598</td>\n",
       "      <td>0.786340</td>\n",
       "      <td>0.927190</td>\n",
       "      <td>0.829892</td>\n",
       "      <td>0.685971</td>\n",
       "    </tr>\n",
       "  </tbody>\n",
       "</table>\n",
       "<p>334 rows × 5 columns</p>\n",
       "</div>"
      ],
      "text/plain": [
       "            0         1         2         3         4\n",
       "0        9783  0.143020  0.347843  0.680186  0.783925\n",
       "1    0.080284  0.619411  0.637637  0.481598  0.149782\n",
       "2    0.288158  0.780141  0.422168  0.604559  0.323094\n",
       "3    0.821595  0.835345  0.714774  0.848404  0.046831\n",
       "4    0.194477  0.447926  0.067030  0.888192  0.668843\n",
       "..        ...       ...       ...       ...       ...\n",
       "329  0.990653  0.565961  0.722428  0.009092  0.944413\n",
       "330  0.969764  0.163666  0.908799  0.616855  0.244120\n",
       "331  0.713657  0.123362  0.120819  0.199565  0.139388\n",
       "332  0.922836  0.853739  0.845974  0.192337  0.743690\n",
       "333  0.473598  0.786340  0.927190  0.829892  0.685971\n",
       "\n",
       "[334 rows x 5 columns]"
      ]
     },
     "execution_count": 45,
     "metadata": {},
     "output_type": "execute_result"
    }
   ],
   "source": [
    "# even tho is update data in newf2 but also update it in the newf\n",
    "# so newf2 is known as view\n",
    "\n",
    "newf"
   ]
  },
  {
   "cell_type": "code",
   "execution_count": 46,
   "id": "d8eebc2f",
   "metadata": {},
   "outputs": [],
   "source": [
    "# if I want to copy it into the variable so we require\n",
    "# newf[:] or newf.copy()\n",
    "\n",
    "newf3 = newf.copy()"
   ]
  },
  {
   "cell_type": "code",
   "execution_count": 47,
   "id": "86226eaa",
   "metadata": {},
   "outputs": [
    {
     "name": "stderr",
     "output_type": "stream",
     "text": [
      "<ipython-input-47-bac04aeeda6f>:1: SettingWithCopyWarning: \n",
      "A value is trying to be set on a copy of a slice from a DataFrame\n",
      "\n",
      "See the caveats in the documentation: https://pandas.pydata.org/pandas-docs/stable/user_guide/indexing.html#returning-a-view-versus-a-copy\n",
      "  newf3[0][0] = 97834212\n"
     ]
    }
   ],
   "source": [
    "newf3[0][0] = 97834212"
   ]
  },
  {
   "cell_type": "code",
   "execution_count": 48,
   "id": "a94c7914",
   "metadata": {},
   "outputs": [
    {
     "data": {
      "text/html": [
       "<div>\n",
       "<style scoped>\n",
       "    .dataframe tbody tr th:only-of-type {\n",
       "        vertical-align: middle;\n",
       "    }\n",
       "\n",
       "    .dataframe tbody tr th {\n",
       "        vertical-align: top;\n",
       "    }\n",
       "\n",
       "    .dataframe thead th {\n",
       "        text-align: right;\n",
       "    }\n",
       "</style>\n",
       "<table border=\"1\" class=\"dataframe\">\n",
       "  <thead>\n",
       "    <tr style=\"text-align: right;\">\n",
       "      <th></th>\n",
       "      <th>0</th>\n",
       "      <th>1</th>\n",
       "      <th>2</th>\n",
       "      <th>3</th>\n",
       "      <th>4</th>\n",
       "    </tr>\n",
       "  </thead>\n",
       "  <tbody>\n",
       "    <tr>\n",
       "      <th>0</th>\n",
       "      <td>9783</td>\n",
       "      <td>0.143020</td>\n",
       "      <td>0.347843</td>\n",
       "      <td>0.680186</td>\n",
       "      <td>0.783925</td>\n",
       "    </tr>\n",
       "    <tr>\n",
       "      <th>1</th>\n",
       "      <td>0.080284</td>\n",
       "      <td>0.619411</td>\n",
       "      <td>0.637637</td>\n",
       "      <td>0.481598</td>\n",
       "      <td>0.149782</td>\n",
       "    </tr>\n",
       "    <tr>\n",
       "      <th>2</th>\n",
       "      <td>0.288158</td>\n",
       "      <td>0.780141</td>\n",
       "      <td>0.422168</td>\n",
       "      <td>0.604559</td>\n",
       "      <td>0.323094</td>\n",
       "    </tr>\n",
       "    <tr>\n",
       "      <th>3</th>\n",
       "      <td>0.821595</td>\n",
       "      <td>0.835345</td>\n",
       "      <td>0.714774</td>\n",
       "      <td>0.848404</td>\n",
       "      <td>0.046831</td>\n",
       "    </tr>\n",
       "    <tr>\n",
       "      <th>4</th>\n",
       "      <td>0.194477</td>\n",
       "      <td>0.447926</td>\n",
       "      <td>0.067030</td>\n",
       "      <td>0.888192</td>\n",
       "      <td>0.668843</td>\n",
       "    </tr>\n",
       "    <tr>\n",
       "      <th>...</th>\n",
       "      <td>...</td>\n",
       "      <td>...</td>\n",
       "      <td>...</td>\n",
       "      <td>...</td>\n",
       "      <td>...</td>\n",
       "    </tr>\n",
       "    <tr>\n",
       "      <th>329</th>\n",
       "      <td>0.990653</td>\n",
       "      <td>0.565961</td>\n",
       "      <td>0.722428</td>\n",
       "      <td>0.009092</td>\n",
       "      <td>0.944413</td>\n",
       "    </tr>\n",
       "    <tr>\n",
       "      <th>330</th>\n",
       "      <td>0.969764</td>\n",
       "      <td>0.163666</td>\n",
       "      <td>0.908799</td>\n",
       "      <td>0.616855</td>\n",
       "      <td>0.244120</td>\n",
       "    </tr>\n",
       "    <tr>\n",
       "      <th>331</th>\n",
       "      <td>0.713657</td>\n",
       "      <td>0.123362</td>\n",
       "      <td>0.120819</td>\n",
       "      <td>0.199565</td>\n",
       "      <td>0.139388</td>\n",
       "    </tr>\n",
       "    <tr>\n",
       "      <th>332</th>\n",
       "      <td>0.922836</td>\n",
       "      <td>0.853739</td>\n",
       "      <td>0.845974</td>\n",
       "      <td>0.192337</td>\n",
       "      <td>0.743690</td>\n",
       "    </tr>\n",
       "    <tr>\n",
       "      <th>333</th>\n",
       "      <td>0.473598</td>\n",
       "      <td>0.786340</td>\n",
       "      <td>0.927190</td>\n",
       "      <td>0.829892</td>\n",
       "      <td>0.685971</td>\n",
       "    </tr>\n",
       "  </tbody>\n",
       "</table>\n",
       "<p>334 rows × 5 columns</p>\n",
       "</div>"
      ],
      "text/plain": [
       "            0         1         2         3         4\n",
       "0        9783  0.143020  0.347843  0.680186  0.783925\n",
       "1    0.080284  0.619411  0.637637  0.481598  0.149782\n",
       "2    0.288158  0.780141  0.422168  0.604559  0.323094\n",
       "3    0.821595  0.835345  0.714774  0.848404  0.046831\n",
       "4    0.194477  0.447926  0.067030  0.888192  0.668843\n",
       "..        ...       ...       ...       ...       ...\n",
       "329  0.990653  0.565961  0.722428  0.009092  0.944413\n",
       "330  0.969764  0.163666  0.908799  0.616855  0.244120\n",
       "331  0.713657  0.123362  0.120819  0.199565  0.139388\n",
       "332  0.922836  0.853739  0.845974  0.192337  0.743690\n",
       "333  0.473598  0.786340  0.927190  0.829892  0.685971\n",
       "\n",
       "[334 rows x 5 columns]"
      ]
     },
     "execution_count": 48,
     "metadata": {},
     "output_type": "execute_result"
    }
   ],
   "source": [
    "newf"
   ]
  },
  {
   "cell_type": "code",
   "execution_count": 49,
   "id": "3709b50d",
   "metadata": {},
   "outputs": [
    {
     "data": {
      "text/html": [
       "<div>\n",
       "<style scoped>\n",
       "    .dataframe tbody tr th:only-of-type {\n",
       "        vertical-align: middle;\n",
       "    }\n",
       "\n",
       "    .dataframe tbody tr th {\n",
       "        vertical-align: top;\n",
       "    }\n",
       "\n",
       "    .dataframe thead th {\n",
       "        text-align: right;\n",
       "    }\n",
       "</style>\n",
       "<table border=\"1\" class=\"dataframe\">\n",
       "  <thead>\n",
       "    <tr style=\"text-align: right;\">\n",
       "      <th></th>\n",
       "      <th>0</th>\n",
       "      <th>1</th>\n",
       "      <th>2</th>\n",
       "      <th>3</th>\n",
       "      <th>4</th>\n",
       "    </tr>\n",
       "  </thead>\n",
       "  <tbody>\n",
       "    <tr>\n",
       "      <th>0</th>\n",
       "      <td>97834212</td>\n",
       "      <td>0.143020</td>\n",
       "      <td>0.347843</td>\n",
       "      <td>0.680186</td>\n",
       "      <td>0.783925</td>\n",
       "    </tr>\n",
       "    <tr>\n",
       "      <th>1</th>\n",
       "      <td>0.080284</td>\n",
       "      <td>0.619411</td>\n",
       "      <td>0.637637</td>\n",
       "      <td>0.481598</td>\n",
       "      <td>0.149782</td>\n",
       "    </tr>\n",
       "    <tr>\n",
       "      <th>2</th>\n",
       "      <td>0.288158</td>\n",
       "      <td>0.780141</td>\n",
       "      <td>0.422168</td>\n",
       "      <td>0.604559</td>\n",
       "      <td>0.323094</td>\n",
       "    </tr>\n",
       "    <tr>\n",
       "      <th>3</th>\n",
       "      <td>0.821595</td>\n",
       "      <td>0.835345</td>\n",
       "      <td>0.714774</td>\n",
       "      <td>0.848404</td>\n",
       "      <td>0.046831</td>\n",
       "    </tr>\n",
       "    <tr>\n",
       "      <th>4</th>\n",
       "      <td>0.194477</td>\n",
       "      <td>0.447926</td>\n",
       "      <td>0.067030</td>\n",
       "      <td>0.888192</td>\n",
       "      <td>0.668843</td>\n",
       "    </tr>\n",
       "    <tr>\n",
       "      <th>...</th>\n",
       "      <td>...</td>\n",
       "      <td>...</td>\n",
       "      <td>...</td>\n",
       "      <td>...</td>\n",
       "      <td>...</td>\n",
       "    </tr>\n",
       "    <tr>\n",
       "      <th>329</th>\n",
       "      <td>0.990653</td>\n",
       "      <td>0.565961</td>\n",
       "      <td>0.722428</td>\n",
       "      <td>0.009092</td>\n",
       "      <td>0.944413</td>\n",
       "    </tr>\n",
       "    <tr>\n",
       "      <th>330</th>\n",
       "      <td>0.969764</td>\n",
       "      <td>0.163666</td>\n",
       "      <td>0.908799</td>\n",
       "      <td>0.616855</td>\n",
       "      <td>0.244120</td>\n",
       "    </tr>\n",
       "    <tr>\n",
       "      <th>331</th>\n",
       "      <td>0.713657</td>\n",
       "      <td>0.123362</td>\n",
       "      <td>0.120819</td>\n",
       "      <td>0.199565</td>\n",
       "      <td>0.139388</td>\n",
       "    </tr>\n",
       "    <tr>\n",
       "      <th>332</th>\n",
       "      <td>0.922836</td>\n",
       "      <td>0.853739</td>\n",
       "      <td>0.845974</td>\n",
       "      <td>0.192337</td>\n",
       "      <td>0.743690</td>\n",
       "    </tr>\n",
       "    <tr>\n",
       "      <th>333</th>\n",
       "      <td>0.473598</td>\n",
       "      <td>0.786340</td>\n",
       "      <td>0.927190</td>\n",
       "      <td>0.829892</td>\n",
       "      <td>0.685971</td>\n",
       "    </tr>\n",
       "  </tbody>\n",
       "</table>\n",
       "<p>334 rows × 5 columns</p>\n",
       "</div>"
      ],
      "text/plain": [
       "            0         1         2         3         4\n",
       "0    97834212  0.143020  0.347843  0.680186  0.783925\n",
       "1    0.080284  0.619411  0.637637  0.481598  0.149782\n",
       "2    0.288158  0.780141  0.422168  0.604559  0.323094\n",
       "3    0.821595  0.835345  0.714774  0.848404  0.046831\n",
       "4    0.194477  0.447926  0.067030  0.888192  0.668843\n",
       "..        ...       ...       ...       ...       ...\n",
       "329  0.990653  0.565961  0.722428  0.009092  0.944413\n",
       "330  0.969764  0.163666  0.908799  0.616855  0.244120\n",
       "331  0.713657  0.123362  0.120819  0.199565  0.139388\n",
       "332  0.922836  0.853739  0.845974  0.192337  0.743690\n",
       "333  0.473598  0.786340  0.927190  0.829892  0.685971\n",
       "\n",
       "[334 rows x 5 columns]"
      ]
     },
     "execution_count": 49,
     "metadata": {},
     "output_type": "execute_result"
    }
   ],
   "source": [
    "newf3"
   ]
  },
  {
   "cell_type": "markdown",
   "id": "7e720527",
   "metadata": {},
   "source": [
    "**Set the Value in specific index**\n",
    "\n",
    "When we directly set the value in specific index it's give us warning because it's think about this this is a copy "
   ]
  },
  {
   "cell_type": "code",
   "execution_count": 51,
   "id": "a81933ac",
   "metadata": {},
   "outputs": [],
   "source": [
    "newf.loc[0,0] = 654"
   ]
  },
  {
   "cell_type": "code",
   "execution_count": 52,
   "id": "4efcfdf9",
   "metadata": {},
   "outputs": [
    {
     "data": {
      "text/html": [
       "<div>\n",
       "<style scoped>\n",
       "    .dataframe tbody tr th:only-of-type {\n",
       "        vertical-align: middle;\n",
       "    }\n",
       "\n",
       "    .dataframe tbody tr th {\n",
       "        vertical-align: top;\n",
       "    }\n",
       "\n",
       "    .dataframe thead th {\n",
       "        text-align: right;\n",
       "    }\n",
       "</style>\n",
       "<table border=\"1\" class=\"dataframe\">\n",
       "  <thead>\n",
       "    <tr style=\"text-align: right;\">\n",
       "      <th></th>\n",
       "      <th>0</th>\n",
       "      <th>1</th>\n",
       "      <th>2</th>\n",
       "      <th>3</th>\n",
       "      <th>4</th>\n",
       "    </tr>\n",
       "  </thead>\n",
       "  <tbody>\n",
       "    <tr>\n",
       "      <th>0</th>\n",
       "      <td>654</td>\n",
       "      <td>0.143020</td>\n",
       "      <td>0.347843</td>\n",
       "      <td>0.680186</td>\n",
       "      <td>0.783925</td>\n",
       "    </tr>\n",
       "    <tr>\n",
       "      <th>1</th>\n",
       "      <td>0.080284</td>\n",
       "      <td>0.619411</td>\n",
       "      <td>0.637637</td>\n",
       "      <td>0.481598</td>\n",
       "      <td>0.149782</td>\n",
       "    </tr>\n",
       "  </tbody>\n",
       "</table>\n",
       "</div>"
      ],
      "text/plain": [
       "          0         1         2         3         4\n",
       "0       654  0.143020  0.347843  0.680186  0.783925\n",
       "1  0.080284  0.619411  0.637637  0.481598  0.149782"
      ]
     },
     "execution_count": 52,
     "metadata": {},
     "output_type": "execute_result"
    }
   ],
   "source": [
    "newf.head(2)"
   ]
  },
  {
   "cell_type": "code",
   "execution_count": 54,
   "id": "4264f5ec",
   "metadata": {},
   "outputs": [],
   "source": [
    "newf.columns = list(\"ABCDE\")"
   ]
  },
  {
   "cell_type": "code",
   "execution_count": 56,
   "id": "ff080fa3",
   "metadata": {},
   "outputs": [
    {
     "data": {
      "text/html": [
       "<div>\n",
       "<style scoped>\n",
       "    .dataframe tbody tr th:only-of-type {\n",
       "        vertical-align: middle;\n",
       "    }\n",
       "\n",
       "    .dataframe tbody tr th {\n",
       "        vertical-align: top;\n",
       "    }\n",
       "\n",
       "    .dataframe thead th {\n",
       "        text-align: right;\n",
       "    }\n",
       "</style>\n",
       "<table border=\"1\" class=\"dataframe\">\n",
       "  <thead>\n",
       "    <tr style=\"text-align: right;\">\n",
       "      <th></th>\n",
       "      <th>A</th>\n",
       "      <th>B</th>\n",
       "      <th>C</th>\n",
       "      <th>D</th>\n",
       "      <th>E</th>\n",
       "    </tr>\n",
       "  </thead>\n",
       "  <tbody>\n",
       "    <tr>\n",
       "      <th>0</th>\n",
       "      <td>654</td>\n",
       "      <td>0.143020</td>\n",
       "      <td>0.347843</td>\n",
       "      <td>0.680186</td>\n",
       "      <td>0.783925</td>\n",
       "    </tr>\n",
       "    <tr>\n",
       "      <th>1</th>\n",
       "      <td>0.080284</td>\n",
       "      <td>0.619411</td>\n",
       "      <td>0.637637</td>\n",
       "      <td>0.481598</td>\n",
       "      <td>0.149782</td>\n",
       "    </tr>\n",
       "  </tbody>\n",
       "</table>\n",
       "</div>"
      ],
      "text/plain": [
       "          A         B         C         D         E\n",
       "0       654  0.143020  0.347843  0.680186  0.783925\n",
       "1  0.080284  0.619411  0.637637  0.481598  0.149782"
      ]
     },
     "execution_count": 56,
     "metadata": {},
     "output_type": "execute_result"
    }
   ],
   "source": [
    "newf.head(2)"
   ]
  },
  {
   "cell_type": "code",
   "execution_count": 57,
   "id": "febeb681",
   "metadata": {},
   "outputs": [],
   "source": [
    "newf[0,0]= 6445"
   ]
  },
  {
   "cell_type": "code",
   "execution_count": 58,
   "id": "4dd14e66",
   "metadata": {},
   "outputs": [
    {
     "data": {
      "text/html": [
       "<div>\n",
       "<style scoped>\n",
       "    .dataframe tbody tr th:only-of-type {\n",
       "        vertical-align: middle;\n",
       "    }\n",
       "\n",
       "    .dataframe tbody tr th {\n",
       "        vertical-align: top;\n",
       "    }\n",
       "\n",
       "    .dataframe thead th {\n",
       "        text-align: right;\n",
       "    }\n",
       "</style>\n",
       "<table border=\"1\" class=\"dataframe\">\n",
       "  <thead>\n",
       "    <tr style=\"text-align: right;\">\n",
       "      <th></th>\n",
       "      <th>A</th>\n",
       "      <th>B</th>\n",
       "      <th>C</th>\n",
       "      <th>D</th>\n",
       "      <th>E</th>\n",
       "      <th>(0, 0)</th>\n",
       "    </tr>\n",
       "  </thead>\n",
       "  <tbody>\n",
       "    <tr>\n",
       "      <th>0</th>\n",
       "      <td>654</td>\n",
       "      <td>0.143020</td>\n",
       "      <td>0.347843</td>\n",
       "      <td>0.680186</td>\n",
       "      <td>0.783925</td>\n",
       "      <td>6445</td>\n",
       "    </tr>\n",
       "    <tr>\n",
       "      <th>1</th>\n",
       "      <td>0.080284</td>\n",
       "      <td>0.619411</td>\n",
       "      <td>0.637637</td>\n",
       "      <td>0.481598</td>\n",
       "      <td>0.149782</td>\n",
       "      <td>6445</td>\n",
       "    </tr>\n",
       "  </tbody>\n",
       "</table>\n",
       "</div>"
      ],
      "text/plain": [
       "          A         B         C         D         E  (0, 0)\n",
       "0       654  0.143020  0.347843  0.680186  0.783925    6445\n",
       "1  0.080284  0.619411  0.637637  0.481598  0.149782    6445"
      ]
     },
     "execution_count": 58,
     "metadata": {},
     "output_type": "execute_result"
    }
   ],
   "source": [
    "newf.head(2)"
   ]
  },
  {
   "cell_type": "markdown",
   "id": "a55d9f29",
   "metadata": {},
   "source": [
    "**You can see here we get a new column which is based on 0 col & 0 row because he didn't find a 0 column so that's why he made a new one column**"
   ]
  },
  {
   "cell_type": "code",
   "execution_count": 68,
   "id": "1e099ee6",
   "metadata": {},
   "outputs": [],
   "source": [
    "newf.loc[0,\"A\"]= 6445"
   ]
  },
  {
   "cell_type": "code",
   "execution_count": 69,
   "id": "14f1c48e",
   "metadata": {},
   "outputs": [
    {
     "data": {
      "text/html": [
       "<div>\n",
       "<style scoped>\n",
       "    .dataframe tbody tr th:only-of-type {\n",
       "        vertical-align: middle;\n",
       "    }\n",
       "\n",
       "    .dataframe tbody tr th {\n",
       "        vertical-align: top;\n",
       "    }\n",
       "\n",
       "    .dataframe thead th {\n",
       "        text-align: right;\n",
       "    }\n",
       "</style>\n",
       "<table border=\"1\" class=\"dataframe\">\n",
       "  <thead>\n",
       "    <tr style=\"text-align: right;\">\n",
       "      <th></th>\n",
       "      <th>A</th>\n",
       "      <th>B</th>\n",
       "      <th>C</th>\n",
       "      <th>D</th>\n",
       "      <th>E</th>\n",
       "      <th>(0, 0)</th>\n",
       "      <th>(0, A)</th>\n",
       "      <th>(A, 0)</th>\n",
       "      <th>0</th>\n",
       "    </tr>\n",
       "  </thead>\n",
       "  <tbody>\n",
       "    <tr>\n",
       "      <th>0</th>\n",
       "      <td>6445</td>\n",
       "      <td>0.143020</td>\n",
       "      <td>0.347843</td>\n",
       "      <td>0.680186</td>\n",
       "      <td>0.783925</td>\n",
       "      <td>6445.0</td>\n",
       "      <td>6445.0</td>\n",
       "      <td>6445.0</td>\n",
       "      <td>NaN</td>\n",
       "    </tr>\n",
       "    <tr>\n",
       "      <th>1</th>\n",
       "      <td>0.080284</td>\n",
       "      <td>0.619411</td>\n",
       "      <td>0.637637</td>\n",
       "      <td>0.481598</td>\n",
       "      <td>0.149782</td>\n",
       "      <td>6445.0</td>\n",
       "      <td>6445.0</td>\n",
       "      <td>6445.0</td>\n",
       "      <td>NaN</td>\n",
       "    </tr>\n",
       "  </tbody>\n",
       "</table>\n",
       "</div>"
      ],
      "text/plain": [
       "          A         B         C         D         E  (0, 0)  (0, A)  (A, 0)  \\\n",
       "0      6445  0.143020  0.347843  0.680186  0.783925  6445.0  6445.0  6445.0   \n",
       "1  0.080284  0.619411  0.637637  0.481598  0.149782  6445.0  6445.0  6445.0   \n",
       "\n",
       "    0  \n",
       "0 NaN  \n",
       "1 NaN  "
      ]
     },
     "execution_count": 69,
     "metadata": {},
     "output_type": "execute_result"
    }
   ],
   "source": [
    "newf.head(2)"
   ]
  },
  {
   "cell_type": "markdown",
   "id": "78e3d5fe",
   "metadata": {},
   "source": [
    "# How to delete the column"
   ]
  },
  {
   "cell_type": "code",
   "execution_count": 77,
   "id": "534a4032",
   "metadata": {},
   "outputs": [],
   "source": [
    "newf = newf.drop(0,axis=1)\n",
    "newf = newf.drop(('A',0),axis=1)\n",
    "newf = newf.drop((0,0),axis=1)\n",
    "newf = newf.drop('A',axis=0)\n",
    "newf = newf.drop((0,'A'),axis=1)"
   ]
  },
  {
   "cell_type": "code",
   "execution_count": 80,
   "id": "c3640a0d",
   "metadata": {},
   "outputs": [
    {
     "data": {
      "text/html": [
       "<div>\n",
       "<style scoped>\n",
       "    .dataframe tbody tr th:only-of-type {\n",
       "        vertical-align: middle;\n",
       "    }\n",
       "\n",
       "    .dataframe tbody tr th {\n",
       "        vertical-align: top;\n",
       "    }\n",
       "\n",
       "    .dataframe thead th {\n",
       "        text-align: right;\n",
       "    }\n",
       "</style>\n",
       "<table border=\"1\" class=\"dataframe\">\n",
       "  <thead>\n",
       "    <tr style=\"text-align: right;\">\n",
       "      <th></th>\n",
       "      <th>A</th>\n",
       "      <th>B</th>\n",
       "      <th>C</th>\n",
       "      <th>D</th>\n",
       "      <th>E</th>\n",
       "    </tr>\n",
       "  </thead>\n",
       "  <tbody>\n",
       "    <tr>\n",
       "      <th>0</th>\n",
       "      <td>6445</td>\n",
       "      <td>0.143020</td>\n",
       "      <td>0.347843</td>\n",
       "      <td>0.680186</td>\n",
       "      <td>0.783925</td>\n",
       "    </tr>\n",
       "    <tr>\n",
       "      <th>1</th>\n",
       "      <td>0.080284</td>\n",
       "      <td>0.619411</td>\n",
       "      <td>0.637637</td>\n",
       "      <td>0.481598</td>\n",
       "      <td>0.149782</td>\n",
       "    </tr>\n",
       "    <tr>\n",
       "      <th>2</th>\n",
       "      <td>0.288158</td>\n",
       "      <td>0.780141</td>\n",
       "      <td>0.422168</td>\n",
       "      <td>0.604559</td>\n",
       "      <td>0.323094</td>\n",
       "    </tr>\n",
       "  </tbody>\n",
       "</table>\n",
       "</div>"
      ],
      "text/plain": [
       "          A         B         C         D         E\n",
       "0      6445  0.143020  0.347843  0.680186  0.783925\n",
       "1  0.080284  0.619411  0.637637  0.481598  0.149782\n",
       "2  0.288158  0.780141  0.422168  0.604559  0.323094"
      ]
     },
     "execution_count": 80,
     "metadata": {},
     "output_type": "execute_result"
    }
   ],
   "source": [
    "newf.head(3)"
   ]
  },
  {
   "cell_type": "code",
   "execution_count": 82,
   "id": "0f81b156",
   "metadata": {},
   "outputs": [
    {
     "data": {
      "text/html": [
       "<div>\n",
       "<style scoped>\n",
       "    .dataframe tbody tr th:only-of-type {\n",
       "        vertical-align: middle;\n",
       "    }\n",
       "\n",
       "    .dataframe tbody tr th {\n",
       "        vertical-align: top;\n",
       "    }\n",
       "\n",
       "    .dataframe thead th {\n",
       "        text-align: right;\n",
       "    }\n",
       "</style>\n",
       "<table border=\"1\" class=\"dataframe\">\n",
       "  <thead>\n",
       "    <tr style=\"text-align: right;\">\n",
       "      <th></th>\n",
       "      <th>C</th>\n",
       "      <th>D</th>\n",
       "    </tr>\n",
       "  </thead>\n",
       "  <tbody>\n",
       "    <tr>\n",
       "      <th>1</th>\n",
       "      <td>0.637637</td>\n",
       "      <td>0.481598</td>\n",
       "    </tr>\n",
       "    <tr>\n",
       "      <th>2</th>\n",
       "      <td>0.422168</td>\n",
       "      <td>0.604559</td>\n",
       "    </tr>\n",
       "  </tbody>\n",
       "</table>\n",
       "</div>"
      ],
      "text/plain": [
       "          C         D\n",
       "1  0.637637  0.481598\n",
       "2  0.422168  0.604559"
      ]
     },
     "execution_count": 82,
     "metadata": {},
     "output_type": "execute_result"
    }
   ],
   "source": [
    "# Set of column\n",
    "\n",
    "newf.loc[[1,2], [\"C\",\"D\"]]"
   ]
  },
  {
   "cell_type": "code",
   "execution_count": 83,
   "id": "8b70ccac",
   "metadata": {},
   "outputs": [
    {
     "data": {
      "text/html": [
       "<div>\n",
       "<style scoped>\n",
       "    .dataframe tbody tr th:only-of-type {\n",
       "        vertical-align: middle;\n",
       "    }\n",
       "\n",
       "    .dataframe tbody tr th {\n",
       "        vertical-align: top;\n",
       "    }\n",
       "\n",
       "    .dataframe thead th {\n",
       "        text-align: right;\n",
       "    }\n",
       "</style>\n",
       "<table border=\"1\" class=\"dataframe\">\n",
       "  <thead>\n",
       "    <tr style=\"text-align: right;\">\n",
       "      <th></th>\n",
       "      <th>A</th>\n",
       "      <th>B</th>\n",
       "      <th>C</th>\n",
       "      <th>D</th>\n",
       "      <th>E</th>\n",
       "    </tr>\n",
       "  </thead>\n",
       "  <tbody>\n",
       "    <tr>\n",
       "      <th>0</th>\n",
       "      <td>6445</td>\n",
       "      <td>0.143020</td>\n",
       "      <td>0.347843</td>\n",
       "      <td>0.680186</td>\n",
       "      <td>0.783925</td>\n",
       "    </tr>\n",
       "    <tr>\n",
       "      <th>1</th>\n",
       "      <td>0.080284</td>\n",
       "      <td>0.619411</td>\n",
       "      <td>0.637637</td>\n",
       "      <td>0.481598</td>\n",
       "      <td>0.149782</td>\n",
       "    </tr>\n",
       "    <tr>\n",
       "      <th>2</th>\n",
       "      <td>0.288158</td>\n",
       "      <td>0.780141</td>\n",
       "      <td>0.422168</td>\n",
       "      <td>0.604559</td>\n",
       "      <td>0.323094</td>\n",
       "    </tr>\n",
       "    <tr>\n",
       "      <th>3</th>\n",
       "      <td>0.821595</td>\n",
       "      <td>0.835345</td>\n",
       "      <td>0.714774</td>\n",
       "      <td>0.848404</td>\n",
       "      <td>0.046831</td>\n",
       "    </tr>\n",
       "    <tr>\n",
       "      <th>4</th>\n",
       "      <td>0.194477</td>\n",
       "      <td>0.447926</td>\n",
       "      <td>0.067030</td>\n",
       "      <td>0.888192</td>\n",
       "      <td>0.668843</td>\n",
       "    </tr>\n",
       "  </tbody>\n",
       "</table>\n",
       "</div>"
      ],
      "text/plain": [
       "          A         B         C         D         E\n",
       "0      6445  0.143020  0.347843  0.680186  0.783925\n",
       "1  0.080284  0.619411  0.637637  0.481598  0.149782\n",
       "2  0.288158  0.780141  0.422168  0.604559  0.323094\n",
       "3  0.821595  0.835345  0.714774  0.848404  0.046831\n",
       "4  0.194477  0.447926  0.067030  0.888192  0.668843"
      ]
     },
     "execution_count": 83,
     "metadata": {},
     "output_type": "execute_result"
    }
   ],
   "source": [
    "newf.head()"
   ]
  },
  {
   "cell_type": "code",
   "execution_count": 84,
   "id": "5a322eb3",
   "metadata": {},
   "outputs": [
    {
     "data": {
      "text/html": [
       "<div>\n",
       "<style scoped>\n",
       "    .dataframe tbody tr th:only-of-type {\n",
       "        vertical-align: middle;\n",
       "    }\n",
       "\n",
       "    .dataframe tbody tr th {\n",
       "        vertical-align: top;\n",
       "    }\n",
       "\n",
       "    .dataframe thead th {\n",
       "        text-align: right;\n",
       "    }\n",
       "</style>\n",
       "<table border=\"1\" class=\"dataframe\">\n",
       "  <thead>\n",
       "    <tr style=\"text-align: right;\">\n",
       "      <th></th>\n",
       "      <th>C</th>\n",
       "      <th>D</th>\n",
       "    </tr>\n",
       "  </thead>\n",
       "  <tbody>\n",
       "    <tr>\n",
       "      <th>0</th>\n",
       "      <td>0.347843</td>\n",
       "      <td>0.680186</td>\n",
       "    </tr>\n",
       "    <tr>\n",
       "      <th>1</th>\n",
       "      <td>0.637637</td>\n",
       "      <td>0.481598</td>\n",
       "    </tr>\n",
       "    <tr>\n",
       "      <th>2</th>\n",
       "      <td>0.422168</td>\n",
       "      <td>0.604559</td>\n",
       "    </tr>\n",
       "    <tr>\n",
       "      <th>3</th>\n",
       "      <td>0.714774</td>\n",
       "      <td>0.848404</td>\n",
       "    </tr>\n",
       "    <tr>\n",
       "      <th>4</th>\n",
       "      <td>0.067030</td>\n",
       "      <td>0.888192</td>\n",
       "    </tr>\n",
       "    <tr>\n",
       "      <th>...</th>\n",
       "      <td>...</td>\n",
       "      <td>...</td>\n",
       "    </tr>\n",
       "    <tr>\n",
       "      <th>329</th>\n",
       "      <td>0.722428</td>\n",
       "      <td>0.009092</td>\n",
       "    </tr>\n",
       "    <tr>\n",
       "      <th>330</th>\n",
       "      <td>0.908799</td>\n",
       "      <td>0.616855</td>\n",
       "    </tr>\n",
       "    <tr>\n",
       "      <th>331</th>\n",
       "      <td>0.120819</td>\n",
       "      <td>0.199565</td>\n",
       "    </tr>\n",
       "    <tr>\n",
       "      <th>332</th>\n",
       "      <td>0.845974</td>\n",
       "      <td>0.192337</td>\n",
       "    </tr>\n",
       "    <tr>\n",
       "      <th>333</th>\n",
       "      <td>0.927190</td>\n",
       "      <td>0.829892</td>\n",
       "    </tr>\n",
       "  </tbody>\n",
       "</table>\n",
       "<p>334 rows × 2 columns</p>\n",
       "</div>"
      ],
      "text/plain": [
       "            C         D\n",
       "0    0.347843  0.680186\n",
       "1    0.637637  0.481598\n",
       "2    0.422168  0.604559\n",
       "3    0.714774  0.848404\n",
       "4    0.067030  0.888192\n",
       "..        ...       ...\n",
       "329  0.722428  0.009092\n",
       "330  0.908799  0.616855\n",
       "331  0.120819  0.199565\n",
       "332  0.845974  0.192337\n",
       "333  0.927190  0.829892\n",
       "\n",
       "[334 rows x 2 columns]"
      ]
     },
     "execution_count": 84,
     "metadata": {},
     "output_type": "execute_result"
    }
   ],
   "source": [
    "newf.loc[:, [\"C\",\"D\"]]"
   ]
  },
  {
   "cell_type": "code",
   "execution_count": 85,
   "id": "9b20a502",
   "metadata": {},
   "outputs": [
    {
     "data": {
      "text/html": [
       "<div>\n",
       "<style scoped>\n",
       "    .dataframe tbody tr th:only-of-type {\n",
       "        vertical-align: middle;\n",
       "    }\n",
       "\n",
       "    .dataframe tbody tr th {\n",
       "        vertical-align: top;\n",
       "    }\n",
       "\n",
       "    .dataframe thead th {\n",
       "        text-align: right;\n",
       "    }\n",
       "</style>\n",
       "<table border=\"1\" class=\"dataframe\">\n",
       "  <thead>\n",
       "    <tr style=\"text-align: right;\">\n",
       "      <th></th>\n",
       "      <th>A</th>\n",
       "      <th>B</th>\n",
       "      <th>C</th>\n",
       "      <th>D</th>\n",
       "      <th>E</th>\n",
       "    </tr>\n",
       "  </thead>\n",
       "  <tbody>\n",
       "    <tr>\n",
       "      <th>1</th>\n",
       "      <td>0.080284</td>\n",
       "      <td>0.619411</td>\n",
       "      <td>0.637637</td>\n",
       "      <td>0.481598</td>\n",
       "      <td>0.149782</td>\n",
       "    </tr>\n",
       "    <tr>\n",
       "      <th>2</th>\n",
       "      <td>0.288158</td>\n",
       "      <td>0.780141</td>\n",
       "      <td>0.422168</td>\n",
       "      <td>0.604559</td>\n",
       "      <td>0.323094</td>\n",
       "    </tr>\n",
       "  </tbody>\n",
       "</table>\n",
       "</div>"
      ],
      "text/plain": [
       "          A         B         C         D         E\n",
       "1  0.080284  0.619411  0.637637  0.481598  0.149782\n",
       "2  0.288158  0.780141  0.422168  0.604559  0.323094"
      ]
     },
     "execution_count": 85,
     "metadata": {},
     "output_type": "execute_result"
    }
   ],
   "source": [
    "newf.loc[[1,2], :]"
   ]
  },
  {
   "cell_type": "code",
   "execution_count": 87,
   "id": "8b86fc4d",
   "metadata": {},
   "outputs": [
    {
     "data": {
      "text/html": [
       "<div>\n",
       "<style scoped>\n",
       "    .dataframe tbody tr th:only-of-type {\n",
       "        vertical-align: middle;\n",
       "    }\n",
       "\n",
       "    .dataframe tbody tr th {\n",
       "        vertical-align: top;\n",
       "    }\n",
       "\n",
       "    .dataframe thead th {\n",
       "        text-align: right;\n",
       "    }\n",
       "</style>\n",
       "<table border=\"1\" class=\"dataframe\">\n",
       "  <thead>\n",
       "    <tr style=\"text-align: right;\">\n",
       "      <th></th>\n",
       "      <th>A</th>\n",
       "      <th>B</th>\n",
       "      <th>C</th>\n",
       "      <th>D</th>\n",
       "      <th>E</th>\n",
       "    </tr>\n",
       "  </thead>\n",
       "  <tbody>\n",
       "    <tr>\n",
       "      <th>1</th>\n",
       "      <td>0.080284</td>\n",
       "      <td>0.619411</td>\n",
       "      <td>0.637637</td>\n",
       "      <td>0.481598</td>\n",
       "      <td>0.149782</td>\n",
       "    </tr>\n",
       "    <tr>\n",
       "      <th>2</th>\n",
       "      <td>0.288158</td>\n",
       "      <td>0.780141</td>\n",
       "      <td>0.422168</td>\n",
       "      <td>0.604559</td>\n",
       "      <td>0.323094</td>\n",
       "    </tr>\n",
       "    <tr>\n",
       "      <th>6</th>\n",
       "      <td>0.266905</td>\n",
       "      <td>0.917742</td>\n",
       "      <td>0.578764</td>\n",
       "      <td>0.354202</td>\n",
       "      <td>0.668903</td>\n",
       "    </tr>\n",
       "    <tr>\n",
       "      <th>12</th>\n",
       "      <td>0.089613</td>\n",
       "      <td>0.552607</td>\n",
       "      <td>0.376306</td>\n",
       "      <td>0.543768</td>\n",
       "      <td>0.896149</td>\n",
       "    </tr>\n",
       "    <tr>\n",
       "      <th>13</th>\n",
       "      <td>0.266744</td>\n",
       "      <td>0.526198</td>\n",
       "      <td>0.292497</td>\n",
       "      <td>0.926605</td>\n",
       "      <td>0.479125</td>\n",
       "    </tr>\n",
       "    <tr>\n",
       "      <th>...</th>\n",
       "      <td>...</td>\n",
       "      <td>...</td>\n",
       "      <td>...</td>\n",
       "      <td>...</td>\n",
       "      <td>...</td>\n",
       "    </tr>\n",
       "    <tr>\n",
       "      <th>314</th>\n",
       "      <td>0.066572</td>\n",
       "      <td>0.392321</td>\n",
       "      <td>0.874171</td>\n",
       "      <td>0.135895</td>\n",
       "      <td>0.759196</td>\n",
       "    </tr>\n",
       "    <tr>\n",
       "      <th>318</th>\n",
       "      <td>0.04175</td>\n",
       "      <td>0.121260</td>\n",
       "      <td>0.100540</td>\n",
       "      <td>0.696704</td>\n",
       "      <td>0.497025</td>\n",
       "    </tr>\n",
       "    <tr>\n",
       "      <th>323</th>\n",
       "      <td>0.140303</td>\n",
       "      <td>0.430697</td>\n",
       "      <td>0.909907</td>\n",
       "      <td>0.045261</td>\n",
       "      <td>0.164276</td>\n",
       "    </tr>\n",
       "    <tr>\n",
       "      <th>325</th>\n",
       "      <td>0.289202</td>\n",
       "      <td>0.087100</td>\n",
       "      <td>0.229957</td>\n",
       "      <td>0.699613</td>\n",
       "      <td>0.337702</td>\n",
       "    </tr>\n",
       "    <tr>\n",
       "      <th>327</th>\n",
       "      <td>0.16556</td>\n",
       "      <td>0.595945</td>\n",
       "      <td>0.117874</td>\n",
       "      <td>0.667574</td>\n",
       "      <td>0.839208</td>\n",
       "    </tr>\n",
       "  </tbody>\n",
       "</table>\n",
       "<p>90 rows × 5 columns</p>\n",
       "</div>"
      ],
      "text/plain": [
       "            A         B         C         D         E\n",
       "1    0.080284  0.619411  0.637637  0.481598  0.149782\n",
       "2    0.288158  0.780141  0.422168  0.604559  0.323094\n",
       "6    0.266905  0.917742  0.578764  0.354202  0.668903\n",
       "12   0.089613  0.552607  0.376306  0.543768  0.896149\n",
       "13   0.266744  0.526198  0.292497  0.926605  0.479125\n",
       "..        ...       ...       ...       ...       ...\n",
       "314  0.066572  0.392321  0.874171  0.135895  0.759196\n",
       "318   0.04175  0.121260  0.100540  0.696704  0.497025\n",
       "323  0.140303  0.430697  0.909907  0.045261  0.164276\n",
       "325  0.289202  0.087100  0.229957  0.699613  0.337702\n",
       "327   0.16556  0.595945  0.117874  0.667574  0.839208\n",
       "\n",
       "[90 rows x 5 columns]"
      ]
     },
     "execution_count": 87,
     "metadata": {},
     "output_type": "execute_result"
    }
   ],
   "source": [
    "newf.loc[(newf[\"A\"]<0.3)&(newf['C']>0.1)]"
   ]
  },
  {
   "cell_type": "markdown",
   "id": "41fd0a4b",
   "metadata": {},
   "source": [
    "**ILOC**"
   ]
  },
  {
   "cell_type": "code",
   "execution_count": 89,
   "id": "d89f2203",
   "metadata": {},
   "outputs": [
    {
     "data": {
      "text/plain": [
       "0.7839254600724553"
      ]
     },
     "execution_count": 89,
     "metadata": {},
     "output_type": "execute_result"
    }
   ],
   "source": [
    "#if I want to count from index counting wise then we use iloc\n",
    "\n",
    "newf.iloc[0,4]"
   ]
  },
  {
   "cell_type": "code",
   "execution_count": 90,
   "id": "bc334922",
   "metadata": {},
   "outputs": [
    {
     "data": {
      "text/html": [
       "<div>\n",
       "<style scoped>\n",
       "    .dataframe tbody tr th:only-of-type {\n",
       "        vertical-align: middle;\n",
       "    }\n",
       "\n",
       "    .dataframe tbody tr th {\n",
       "        vertical-align: top;\n",
       "    }\n",
       "\n",
       "    .dataframe thead th {\n",
       "        text-align: right;\n",
       "    }\n",
       "</style>\n",
       "<table border=\"1\" class=\"dataframe\">\n",
       "  <thead>\n",
       "    <tr style=\"text-align: right;\">\n",
       "      <th></th>\n",
       "      <th>B</th>\n",
       "      <th>C</th>\n",
       "    </tr>\n",
       "  </thead>\n",
       "  <tbody>\n",
       "    <tr>\n",
       "      <th>0</th>\n",
       "      <td>0.143020</td>\n",
       "      <td>0.347843</td>\n",
       "    </tr>\n",
       "    <tr>\n",
       "      <th>1</th>\n",
       "      <td>0.619411</td>\n",
       "      <td>0.637637</td>\n",
       "    </tr>\n",
       "  </tbody>\n",
       "</table>\n",
       "</div>"
      ],
      "text/plain": [
       "          B         C\n",
       "0  0.143020  0.347843\n",
       "1  0.619411  0.637637"
      ]
     },
     "execution_count": 90,
     "metadata": {},
     "output_type": "execute_result"
    }
   ],
   "source": [
    "newf.iloc[[0,1],[1,2]]"
   ]
  },
  {
   "cell_type": "code",
   "execution_count": 91,
   "id": "c44a7422",
   "metadata": {},
   "outputs": [
    {
     "data": {
      "text/html": [
       "<div>\n",
       "<style scoped>\n",
       "    .dataframe tbody tr th:only-of-type {\n",
       "        vertical-align: middle;\n",
       "    }\n",
       "\n",
       "    .dataframe tbody tr th {\n",
       "        vertical-align: top;\n",
       "    }\n",
       "\n",
       "    .dataframe thead th {\n",
       "        text-align: right;\n",
       "    }\n",
       "</style>\n",
       "<table border=\"1\" class=\"dataframe\">\n",
       "  <thead>\n",
       "    <tr style=\"text-align: right;\">\n",
       "      <th></th>\n",
       "      <th>A</th>\n",
       "      <th>B</th>\n",
       "      <th>C</th>\n",
       "      <th>D</th>\n",
       "      <th>E</th>\n",
       "    </tr>\n",
       "  </thead>\n",
       "  <tbody>\n",
       "    <tr>\n",
       "      <th>0</th>\n",
       "      <td>6445</td>\n",
       "      <td>0.143020</td>\n",
       "      <td>0.347843</td>\n",
       "      <td>0.680186</td>\n",
       "      <td>0.783925</td>\n",
       "    </tr>\n",
       "    <tr>\n",
       "      <th>1</th>\n",
       "      <td>0.080284</td>\n",
       "      <td>0.619411</td>\n",
       "      <td>0.637637</td>\n",
       "      <td>0.481598</td>\n",
       "      <td>0.149782</td>\n",
       "    </tr>\n",
       "    <tr>\n",
       "      <th>2</th>\n",
       "      <td>0.288158</td>\n",
       "      <td>0.780141</td>\n",
       "      <td>0.422168</td>\n",
       "      <td>0.604559</td>\n",
       "      <td>0.323094</td>\n",
       "    </tr>\n",
       "  </tbody>\n",
       "</table>\n",
       "</div>"
      ],
      "text/plain": [
       "          A         B         C         D         E\n",
       "0      6445  0.143020  0.347843  0.680186  0.783925\n",
       "1  0.080284  0.619411  0.637637  0.481598  0.149782\n",
       "2  0.288158  0.780141  0.422168  0.604559  0.323094"
      ]
     },
     "execution_count": 91,
     "metadata": {},
     "output_type": "execute_result"
    }
   ],
   "source": [
    "newf.head(3)"
   ]
  },
  {
   "cell_type": "code",
   "execution_count": 93,
   "id": "22e33d6d",
   "metadata": {},
   "outputs": [],
   "source": [
    "# inplace change it permanently\n",
    "\n",
    "newf.drop([0],inplace=True)"
   ]
  },
  {
   "cell_type": "code",
   "execution_count": 96,
   "id": "979b27c7",
   "metadata": {},
   "outputs": [
    {
     "data": {
      "text/html": [
       "<div>\n",
       "<style scoped>\n",
       "    .dataframe tbody tr th:only-of-type {\n",
       "        vertical-align: middle;\n",
       "    }\n",
       "\n",
       "    .dataframe tbody tr th {\n",
       "        vertical-align: top;\n",
       "    }\n",
       "\n",
       "    .dataframe thead th {\n",
       "        text-align: right;\n",
       "    }\n",
       "</style>\n",
       "<table border=\"1\" class=\"dataframe\">\n",
       "  <thead>\n",
       "    <tr style=\"text-align: right;\">\n",
       "      <th></th>\n",
       "      <th>A</th>\n",
       "      <th>B</th>\n",
       "      <th>C</th>\n",
       "      <th>D</th>\n",
       "      <th>E</th>\n",
       "    </tr>\n",
       "  </thead>\n",
       "  <tbody>\n",
       "    <tr>\n",
       "      <th>1</th>\n",
       "      <td>0.080284</td>\n",
       "      <td>0.619411</td>\n",
       "      <td>0.637637</td>\n",
       "      <td>0.481598</td>\n",
       "      <td>0.149782</td>\n",
       "    </tr>\n",
       "    <tr>\n",
       "      <th>2</th>\n",
       "      <td>0.288158</td>\n",
       "      <td>0.780141</td>\n",
       "      <td>0.422168</td>\n",
       "      <td>0.604559</td>\n",
       "      <td>0.323094</td>\n",
       "    </tr>\n",
       "    <tr>\n",
       "      <th>3</th>\n",
       "      <td>0.821595</td>\n",
       "      <td>0.835345</td>\n",
       "      <td>0.714774</td>\n",
       "      <td>0.848404</td>\n",
       "      <td>0.046831</td>\n",
       "    </tr>\n",
       "  </tbody>\n",
       "</table>\n",
       "</div>"
      ],
      "text/plain": [
       "          A         B         C         D         E\n",
       "1  0.080284  0.619411  0.637637  0.481598  0.149782\n",
       "2  0.288158  0.780141  0.422168  0.604559  0.323094\n",
       "3  0.821595  0.835345  0.714774  0.848404  0.046831"
      ]
     },
     "execution_count": 96,
     "metadata": {},
     "output_type": "execute_result"
    }
   ],
   "source": [
    "newf.head(3)"
   ]
  },
  {
   "cell_type": "code",
   "execution_count": 98,
   "id": "58b137cf",
   "metadata": {},
   "outputs": [],
   "source": [
    "# reset_index reset the data start from 0 to onward\n",
    "# drop=true to remove the new index creation\n",
    "\n",
    "newf.reset_index(drop=True,inplace=True)"
   ]
  },
  {
   "cell_type": "code",
   "execution_count": 99,
   "id": "ae06079f",
   "metadata": {},
   "outputs": [
    {
     "data": {
      "text/html": [
       "<div>\n",
       "<style scoped>\n",
       "    .dataframe tbody tr th:only-of-type {\n",
       "        vertical-align: middle;\n",
       "    }\n",
       "\n",
       "    .dataframe tbody tr th {\n",
       "        vertical-align: top;\n",
       "    }\n",
       "\n",
       "    .dataframe thead th {\n",
       "        text-align: right;\n",
       "    }\n",
       "</style>\n",
       "<table border=\"1\" class=\"dataframe\">\n",
       "  <thead>\n",
       "    <tr style=\"text-align: right;\">\n",
       "      <th></th>\n",
       "      <th>A</th>\n",
       "      <th>B</th>\n",
       "      <th>C</th>\n",
       "      <th>D</th>\n",
       "      <th>E</th>\n",
       "    </tr>\n",
       "  </thead>\n",
       "  <tbody>\n",
       "    <tr>\n",
       "      <th>0</th>\n",
       "      <td>0.080284</td>\n",
       "      <td>0.619411</td>\n",
       "      <td>0.637637</td>\n",
       "      <td>0.481598</td>\n",
       "      <td>0.149782</td>\n",
       "    </tr>\n",
       "    <tr>\n",
       "      <th>1</th>\n",
       "      <td>0.288158</td>\n",
       "      <td>0.780141</td>\n",
       "      <td>0.422168</td>\n",
       "      <td>0.604559</td>\n",
       "      <td>0.323094</td>\n",
       "    </tr>\n",
       "    <tr>\n",
       "      <th>2</th>\n",
       "      <td>0.821595</td>\n",
       "      <td>0.835345</td>\n",
       "      <td>0.714774</td>\n",
       "      <td>0.848404</td>\n",
       "      <td>0.046831</td>\n",
       "    </tr>\n",
       "  </tbody>\n",
       "</table>\n",
       "</div>"
      ],
      "text/plain": [
       "          A         B         C         D         E\n",
       "0  0.080284  0.619411  0.637637  0.481598  0.149782\n",
       "1  0.288158  0.780141  0.422168  0.604559  0.323094\n",
       "2  0.821595  0.835345  0.714774  0.848404  0.046831"
      ]
     },
     "execution_count": 99,
     "metadata": {},
     "output_type": "execute_result"
    }
   ],
   "source": [
    "newf.head(3)"
   ]
  },
  {
   "cell_type": "code",
   "execution_count": 102,
   "id": "c21ee9e4",
   "metadata": {},
   "outputs": [
    {
     "data": {
      "text/plain": [
       "0      False\n",
       "1      False\n",
       "2      False\n",
       "3      False\n",
       "4      False\n",
       "       ...  \n",
       "328    False\n",
       "329    False\n",
       "330    False\n",
       "331    False\n",
       "332    False\n",
       "Name: B, Length: 333, dtype: bool"
      ]
     },
     "execution_count": 102,
     "metadata": {},
     "output_type": "execute_result"
    }
   ],
   "source": [
    "# if the value is true is anywhere else than there is a null value\n",
    "\n",
    "newf['B'].isnull()"
   ]
  },
  {
   "cell_type": "code",
   "execution_count": 112,
   "id": "a245c58c",
   "metadata": {},
   "outputs": [],
   "source": [
    "df = pd.DataFrame({\"name\": ['Alfred', 'Batman', 'Alfred'],\n",
    "                    \"toy\": [np.nan, 'Batmobile', 'Bullwhip'],\n",
    "                    \"born\": [pd.NaT, pd.Timestamp(\"1940-04-25\"),\n",
    "                             pd.NaT]})"
   ]
  },
  {
   "cell_type": "code",
   "execution_count": 113,
   "id": "5fda30f1",
   "metadata": {},
   "outputs": [
    {
     "data": {
      "text/html": [
       "<div>\n",
       "<style scoped>\n",
       "    .dataframe tbody tr th:only-of-type {\n",
       "        vertical-align: middle;\n",
       "    }\n",
       "\n",
       "    .dataframe tbody tr th {\n",
       "        vertical-align: top;\n",
       "    }\n",
       "\n",
       "    .dataframe thead th {\n",
       "        text-align: right;\n",
       "    }\n",
       "</style>\n",
       "<table border=\"1\" class=\"dataframe\">\n",
       "  <thead>\n",
       "    <tr style=\"text-align: right;\">\n",
       "      <th></th>\n",
       "      <th>name</th>\n",
       "      <th>toy</th>\n",
       "      <th>born</th>\n",
       "    </tr>\n",
       "  </thead>\n",
       "  <tbody>\n",
       "    <tr>\n",
       "      <th>0</th>\n",
       "      <td>Alfred</td>\n",
       "      <td>NaN</td>\n",
       "      <td>NaT</td>\n",
       "    </tr>\n",
       "    <tr>\n",
       "      <th>1</th>\n",
       "      <td>Batman</td>\n",
       "      <td>Batmobile</td>\n",
       "      <td>1940-04-25</td>\n",
       "    </tr>\n",
       "    <tr>\n",
       "      <th>2</th>\n",
       "      <td>Alfred</td>\n",
       "      <td>Bullwhip</td>\n",
       "      <td>NaT</td>\n",
       "    </tr>\n",
       "  </tbody>\n",
       "</table>\n",
       "</div>"
      ],
      "text/plain": [
       "     name        toy       born\n",
       "0  Alfred        NaN        NaT\n",
       "1  Batman  Batmobile 1940-04-25\n",
       "2  Alfred   Bullwhip        NaT"
      ]
     },
     "execution_count": 113,
     "metadata": {},
     "output_type": "execute_result"
    }
   ],
   "source": [
    "df.head()"
   ]
  },
  {
   "cell_type": "code",
   "execution_count": 114,
   "id": "382cbca9",
   "metadata": {},
   "outputs": [
    {
     "data": {
      "text/html": [
       "<div>\n",
       "<style scoped>\n",
       "    .dataframe tbody tr th:only-of-type {\n",
       "        vertical-align: middle;\n",
       "    }\n",
       "\n",
       "    .dataframe tbody tr th {\n",
       "        vertical-align: top;\n",
       "    }\n",
       "\n",
       "    .dataframe thead th {\n",
       "        text-align: right;\n",
       "    }\n",
       "</style>\n",
       "<table border=\"1\" class=\"dataframe\">\n",
       "  <thead>\n",
       "    <tr style=\"text-align: right;\">\n",
       "      <th></th>\n",
       "      <th>name</th>\n",
       "      <th>toy</th>\n",
       "      <th>born</th>\n",
       "    </tr>\n",
       "  </thead>\n",
       "  <tbody>\n",
       "    <tr>\n",
       "      <th>0</th>\n",
       "      <td>Alfred</td>\n",
       "      <td>NaN</td>\n",
       "      <td>NaT</td>\n",
       "    </tr>\n",
       "    <tr>\n",
       "      <th>1</th>\n",
       "      <td>Batman</td>\n",
       "      <td>Batmobile</td>\n",
       "      <td>1940-04-25</td>\n",
       "    </tr>\n",
       "    <tr>\n",
       "      <th>2</th>\n",
       "      <td>Alfred</td>\n",
       "      <td>Bullwhip</td>\n",
       "      <td>NaT</td>\n",
       "    </tr>\n",
       "  </tbody>\n",
       "</table>\n",
       "</div>"
      ],
      "text/plain": [
       "     name        toy       born\n",
       "0  Alfred        NaN        NaT\n",
       "1  Batman  Batmobile 1940-04-25\n",
       "2  Alfred   Bullwhip        NaT"
      ]
     },
     "execution_count": 114,
     "metadata": {},
     "output_type": "execute_result"
    }
   ],
   "source": [
    "# it won't till every sort of data isn't gonna nan\n",
    "\n",
    "\n",
    "df.dropna(how=\"all\")"
   ]
  },
  {
   "cell_type": "code",
   "execution_count": 118,
   "id": "70f2bb02",
   "metadata": {},
   "outputs": [
    {
     "data": {
      "text/html": [
       "<div>\n",
       "<style scoped>\n",
       "    .dataframe tbody tr th:only-of-type {\n",
       "        vertical-align: middle;\n",
       "    }\n",
       "\n",
       "    .dataframe tbody tr th {\n",
       "        vertical-align: top;\n",
       "    }\n",
       "\n",
       "    .dataframe thead th {\n",
       "        text-align: right;\n",
       "    }\n",
       "</style>\n",
       "<table border=\"1\" class=\"dataframe\">\n",
       "  <thead>\n",
       "    <tr style=\"text-align: right;\">\n",
       "      <th></th>\n",
       "      <th>name</th>\n",
       "      <th>toy</th>\n",
       "      <th>born</th>\n",
       "    </tr>\n",
       "  </thead>\n",
       "  <tbody>\n",
       "    <tr>\n",
       "      <th>0</th>\n",
       "      <td>Alfred</td>\n",
       "      <td>NaN</td>\n",
       "      <td>NaT</td>\n",
       "    </tr>\n",
       "    <tr>\n",
       "      <th>1</th>\n",
       "      <td>Batman</td>\n",
       "      <td>Batmobile</td>\n",
       "      <td>1940-04-25</td>\n",
       "    </tr>\n",
       "  </tbody>\n",
       "</table>\n",
       "</div>"
      ],
      "text/plain": [
       "     name        toy       born\n",
       "0  Alfred        NaN        NaT\n",
       "1  Batman  Batmobile 1940-04-25"
      ]
     },
     "execution_count": 118,
     "metadata": {},
     "output_type": "execute_result"
    }
   ],
   "source": [
    "# Remove the duplicate of data\n",
    "\n",
    "df.drop_duplicates(subset=['name'])"
   ]
  },
  {
   "cell_type": "code",
   "execution_count": 119,
   "id": "99e73297",
   "metadata": {},
   "outputs": [
    {
     "data": {
      "text/html": [
       "<div>\n",
       "<style scoped>\n",
       "    .dataframe tbody tr th:only-of-type {\n",
       "        vertical-align: middle;\n",
       "    }\n",
       "\n",
       "    .dataframe tbody tr th {\n",
       "        vertical-align: top;\n",
       "    }\n",
       "\n",
       "    .dataframe thead th {\n",
       "        text-align: right;\n",
       "    }\n",
       "</style>\n",
       "<table border=\"1\" class=\"dataframe\">\n",
       "  <thead>\n",
       "    <tr style=\"text-align: right;\">\n",
       "      <th></th>\n",
       "      <th>name</th>\n",
       "      <th>toy</th>\n",
       "      <th>born</th>\n",
       "    </tr>\n",
       "  </thead>\n",
       "  <tbody>\n",
       "    <tr>\n",
       "      <th>1</th>\n",
       "      <td>Batman</td>\n",
       "      <td>Batmobile</td>\n",
       "      <td>1940-04-25</td>\n",
       "    </tr>\n",
       "    <tr>\n",
       "      <th>2</th>\n",
       "      <td>Alfred</td>\n",
       "      <td>Bullwhip</td>\n",
       "      <td>NaT</td>\n",
       "    </tr>\n",
       "  </tbody>\n",
       "</table>\n",
       "</div>"
      ],
      "text/plain": [
       "     name        toy       born\n",
       "1  Batman  Batmobile 1940-04-25\n",
       "2  Alfred   Bullwhip        NaT"
      ]
     },
     "execution_count": 119,
     "metadata": {},
     "output_type": "execute_result"
    }
   ],
   "source": [
    "df.drop_duplicates(subset=['name'],keep=\"last\")"
   ]
  },
  {
   "cell_type": "code",
   "execution_count": 120,
   "id": "df453768",
   "metadata": {},
   "outputs": [
    {
     "data": {
      "text/html": [
       "<div>\n",
       "<style scoped>\n",
       "    .dataframe tbody tr th:only-of-type {\n",
       "        vertical-align: middle;\n",
       "    }\n",
       "\n",
       "    .dataframe tbody tr th {\n",
       "        vertical-align: top;\n",
       "    }\n",
       "\n",
       "    .dataframe thead th {\n",
       "        text-align: right;\n",
       "    }\n",
       "</style>\n",
       "<table border=\"1\" class=\"dataframe\">\n",
       "  <thead>\n",
       "    <tr style=\"text-align: right;\">\n",
       "      <th></th>\n",
       "      <th>name</th>\n",
       "      <th>toy</th>\n",
       "      <th>born</th>\n",
       "    </tr>\n",
       "  </thead>\n",
       "  <tbody>\n",
       "    <tr>\n",
       "      <th>1</th>\n",
       "      <td>Batman</td>\n",
       "      <td>Batmobile</td>\n",
       "      <td>1940-04-25</td>\n",
       "    </tr>\n",
       "  </tbody>\n",
       "</table>\n",
       "</div>"
      ],
      "text/plain": [
       "     name        toy       born\n",
       "1  Batman  Batmobile 1940-04-25"
      ]
     },
     "execution_count": 120,
     "metadata": {},
     "output_type": "execute_result"
    }
   ],
   "source": [
    "df.drop_duplicates(subset=['name'],keep=False)"
   ]
  },
  {
   "cell_type": "code",
   "execution_count": 121,
   "id": "f6ca48aa",
   "metadata": {},
   "outputs": [
    {
     "data": {
      "text/plain": [
       "(3, 3)"
      ]
     },
     "execution_count": 121,
     "metadata": {},
     "output_type": "execute_result"
    }
   ],
   "source": [
    "df.shape"
   ]
  },
  {
   "cell_type": "code",
   "execution_count": 123,
   "id": "10a673a0",
   "metadata": {},
   "outputs": [
    {
     "name": "stdout",
     "output_type": "stream",
     "text": [
      "<class 'pandas.core.frame.DataFrame'>\n",
      "RangeIndex: 3 entries, 0 to 2\n",
      "Data columns (total 3 columns):\n",
      " #   Column  Non-Null Count  Dtype         \n",
      "---  ------  --------------  -----         \n",
      " 0   name    3 non-null      object        \n",
      " 1   toy     2 non-null      object        \n",
      " 2   born    1 non-null      datetime64[ns]\n",
      "dtypes: datetime64[ns](1), object(2)\n",
      "memory usage: 200.0+ bytes\n"
     ]
    }
   ],
   "source": [
    "df.info()"
   ]
  },
  {
   "cell_type": "code",
   "execution_count": 127,
   "id": "76a04ae1",
   "metadata": {},
   "outputs": [
    {
     "data": {
      "text/plain": [
       "NaN          1\n",
       "Bullwhip     1\n",
       "Batmobile    1\n",
       "Name: toy, dtype: int64"
      ]
     },
     "execution_count": 127,
     "metadata": {},
     "output_type": "execute_result"
    }
   ],
   "source": [
    "df['toy'].value_counts(dropna=False)"
   ]
  },
  {
   "cell_type": "code",
   "execution_count": 128,
   "id": "1f098311",
   "metadata": {},
   "outputs": [
    {
     "data": {
      "text/html": [
       "<div>\n",
       "<style scoped>\n",
       "    .dataframe tbody tr th:only-of-type {\n",
       "        vertical-align: middle;\n",
       "    }\n",
       "\n",
       "    .dataframe tbody tr th {\n",
       "        vertical-align: top;\n",
       "    }\n",
       "\n",
       "    .dataframe thead th {\n",
       "        text-align: right;\n",
       "    }\n",
       "</style>\n",
       "<table border=\"1\" class=\"dataframe\">\n",
       "  <thead>\n",
       "    <tr style=\"text-align: right;\">\n",
       "      <th></th>\n",
       "      <th>name</th>\n",
       "      <th>toy</th>\n",
       "      <th>born</th>\n",
       "    </tr>\n",
       "  </thead>\n",
       "  <tbody>\n",
       "    <tr>\n",
       "      <th>0</th>\n",
       "      <td>True</td>\n",
       "      <td>False</td>\n",
       "      <td>False</td>\n",
       "    </tr>\n",
       "    <tr>\n",
       "      <th>1</th>\n",
       "      <td>True</td>\n",
       "      <td>True</td>\n",
       "      <td>True</td>\n",
       "    </tr>\n",
       "    <tr>\n",
       "      <th>2</th>\n",
       "      <td>True</td>\n",
       "      <td>True</td>\n",
       "      <td>False</td>\n",
       "    </tr>\n",
       "  </tbody>\n",
       "</table>\n",
       "</div>"
      ],
      "text/plain": [
       "   name    toy   born\n",
       "0  True  False  False\n",
       "1  True   True   True\n",
       "2  True   True  False"
      ]
     },
     "execution_count": 128,
     "metadata": {},
     "output_type": "execute_result"
    }
   ],
   "source": [
    "df.notnull()"
   ]
  },
  {
   "cell_type": "code",
   "execution_count": 134,
   "id": "2d7d97a2",
   "metadata": {},
   "outputs": [
    {
     "data": {
      "text/html": [
       "<div>\n",
       "<style scoped>\n",
       "    .dataframe tbody tr th:only-of-type {\n",
       "        vertical-align: middle;\n",
       "    }\n",
       "\n",
       "    .dataframe tbody tr th {\n",
       "        vertical-align: top;\n",
       "    }\n",
       "\n",
       "    .dataframe thead th {\n",
       "        text-align: right;\n",
       "    }\n",
       "</style>\n",
       "<table border=\"1\" class=\"dataframe\">\n",
       "  <thead>\n",
       "    <tr style=\"text-align: right;\">\n",
       "      <th></th>\n",
       "      <th>B</th>\n",
       "      <th>C</th>\n",
       "      <th>D</th>\n",
       "      <th>E</th>\n",
       "    </tr>\n",
       "  </thead>\n",
       "  <tbody>\n",
       "    <tr>\n",
       "      <th>count</th>\n",
       "      <td>333.000000</td>\n",
       "      <td>333.000000</td>\n",
       "      <td>333.000000</td>\n",
       "      <td>333.000000</td>\n",
       "    </tr>\n",
       "    <tr>\n",
       "      <th>mean</th>\n",
       "      <td>0.502659</td>\n",
       "      <td>0.518454</td>\n",
       "      <td>0.515079</td>\n",
       "      <td>0.506229</td>\n",
       "    </tr>\n",
       "    <tr>\n",
       "      <th>std</th>\n",
       "      <td>0.286199</td>\n",
       "      <td>0.293624</td>\n",
       "      <td>0.288169</td>\n",
       "      <td>0.287098</td>\n",
       "    </tr>\n",
       "    <tr>\n",
       "      <th>min</th>\n",
       "      <td>0.000561</td>\n",
       "      <td>0.003179</td>\n",
       "      <td>0.005991</td>\n",
       "      <td>0.000669</td>\n",
       "    </tr>\n",
       "    <tr>\n",
       "      <th>25%</th>\n",
       "      <td>0.255363</td>\n",
       "      <td>0.263356</td>\n",
       "      <td>0.269403</td>\n",
       "      <td>0.247864</td>\n",
       "    </tr>\n",
       "    <tr>\n",
       "      <th>50%</th>\n",
       "      <td>0.508426</td>\n",
       "      <td>0.554050</td>\n",
       "      <td>0.533395</td>\n",
       "      <td>0.523783</td>\n",
       "    </tr>\n",
       "    <tr>\n",
       "      <th>75%</th>\n",
       "      <td>0.733471</td>\n",
       "      <td>0.774383</td>\n",
       "      <td>0.747420</td>\n",
       "      <td>0.759142</td>\n",
       "    </tr>\n",
       "    <tr>\n",
       "      <th>max</th>\n",
       "      <td>0.997745</td>\n",
       "      <td>0.999220</td>\n",
       "      <td>0.991296</td>\n",
       "      <td>0.999934</td>\n",
       "    </tr>\n",
       "  </tbody>\n",
       "</table>\n",
       "</div>"
      ],
      "text/plain": [
       "                B           C           D           E\n",
       "count  333.000000  333.000000  333.000000  333.000000\n",
       "mean     0.502659    0.518454    0.515079    0.506229\n",
       "std      0.286199    0.293624    0.288169    0.287098\n",
       "min      0.000561    0.003179    0.005991    0.000669\n",
       "25%      0.255363    0.263356    0.269403    0.247864\n",
       "50%      0.508426    0.554050    0.533395    0.523783\n",
       "75%      0.733471    0.774383    0.747420    0.759142\n",
       "max      0.997745    0.999220    0.991296    0.999934"
      ]
     },
     "execution_count": 134,
     "metadata": {},
     "output_type": "execute_result"
    }
   ],
   "source": [
    "newf.describe()"
   ]
  },
  {
   "cell_type": "code",
   "execution_count": 133,
   "id": "fbd43c29",
   "metadata": {},
   "outputs": [
    {
     "data": {
      "text/plain": [
       "A    0.503659\n",
       "B    0.502659\n",
       "C    0.518454\n",
       "D    0.515079\n",
       "E    0.506229\n",
       "dtype: float64"
      ]
     },
     "execution_count": 133,
     "metadata": {},
     "output_type": "execute_result"
    }
   ],
   "source": [
    "newf.mean()"
   ]
  },
  {
   "cell_type": "code",
   "execution_count": 135,
   "id": "fbc7499c",
   "metadata": {},
   "outputs": [
    {
     "data": {
      "text/html": [
       "<div>\n",
       "<style scoped>\n",
       "    .dataframe tbody tr th:only-of-type {\n",
       "        vertical-align: middle;\n",
       "    }\n",
       "\n",
       "    .dataframe tbody tr th {\n",
       "        vertical-align: top;\n",
       "    }\n",
       "\n",
       "    .dataframe thead th {\n",
       "        text-align: right;\n",
       "    }\n",
       "</style>\n",
       "<table border=\"1\" class=\"dataframe\">\n",
       "  <thead>\n",
       "    <tr style=\"text-align: right;\">\n",
       "      <th></th>\n",
       "      <th>B</th>\n",
       "      <th>C</th>\n",
       "      <th>D</th>\n",
       "      <th>E</th>\n",
       "    </tr>\n",
       "  </thead>\n",
       "  <tbody>\n",
       "    <tr>\n",
       "      <th>B</th>\n",
       "      <td>1.000000</td>\n",
       "      <td>0.064490</td>\n",
       "      <td>0.024647</td>\n",
       "      <td>0.047245</td>\n",
       "    </tr>\n",
       "    <tr>\n",
       "      <th>C</th>\n",
       "      <td>0.064490</td>\n",
       "      <td>1.000000</td>\n",
       "      <td>-0.016715</td>\n",
       "      <td>-0.009499</td>\n",
       "    </tr>\n",
       "    <tr>\n",
       "      <th>D</th>\n",
       "      <td>0.024647</td>\n",
       "      <td>-0.016715</td>\n",
       "      <td>1.000000</td>\n",
       "      <td>-0.021659</td>\n",
       "    </tr>\n",
       "    <tr>\n",
       "      <th>E</th>\n",
       "      <td>0.047245</td>\n",
       "      <td>-0.009499</td>\n",
       "      <td>-0.021659</td>\n",
       "      <td>1.000000</td>\n",
       "    </tr>\n",
       "  </tbody>\n",
       "</table>\n",
       "</div>"
      ],
      "text/plain": [
       "          B         C         D         E\n",
       "B  1.000000  0.064490  0.024647  0.047245\n",
       "C  0.064490  1.000000 -0.016715 -0.009499\n",
       "D  0.024647 -0.016715  1.000000 -0.021659\n",
       "E  0.047245 -0.009499 -0.021659  1.000000"
      ]
     },
     "execution_count": 135,
     "metadata": {},
     "output_type": "execute_result"
    }
   ],
   "source": [
    "newf.corr()"
   ]
  },
  {
   "cell_type": "code",
   "execution_count": 136,
   "id": "dc02506f",
   "metadata": {},
   "outputs": [
    {
     "data": {
      "text/plain": [
       "A    333\n",
       "B    333\n",
       "C    333\n",
       "D    333\n",
       "E    333\n",
       "dtype: int64"
      ]
     },
     "execution_count": 136,
     "metadata": {},
     "output_type": "execute_result"
    }
   ],
   "source": [
    "newf.count()"
   ]
  },
  {
   "cell_type": "code",
   "execution_count": 137,
   "id": "a76bcd72",
   "metadata": {},
   "outputs": [
    {
     "data": {
      "text/plain": [
       "A    0.996549\n",
       "B    0.997745\n",
       "C     0.99922\n",
       "D    0.991296\n",
       "E    0.999934\n",
       "dtype: object"
      ]
     },
     "execution_count": 137,
     "metadata": {},
     "output_type": "execute_result"
    }
   ],
   "source": [
    "newf.max()"
   ]
  },
  {
   "cell_type": "code",
   "execution_count": 138,
   "id": "386b7850",
   "metadata": {},
   "outputs": [
    {
     "data": {
      "text/plain": [
       "A    0.002164\n",
       "B    0.000561\n",
       "C    0.003179\n",
       "D    0.005991\n",
       "E    0.000669\n",
       "dtype: object"
      ]
     },
     "execution_count": 138,
     "metadata": {},
     "output_type": "execute_result"
    }
   ],
   "source": [
    "newf.min()"
   ]
  },
  {
   "cell_type": "code",
   "execution_count": 139,
   "id": "9cda581c",
   "metadata": {},
   "outputs": [
    {
     "data": {
      "text/plain": [
       "A    0.540950\n",
       "B    0.508426\n",
       "C    0.554050\n",
       "D    0.533395\n",
       "E    0.523783\n",
       "dtype: float64"
      ]
     },
     "execution_count": 139,
     "metadata": {},
     "output_type": "execute_result"
    }
   ],
   "source": [
    "newf.median()"
   ]
  },
  {
   "cell_type": "code",
   "execution_count": 140,
   "id": "93c6149c",
   "metadata": {},
   "outputs": [
    {
     "data": {
      "text/plain": [
       "A    0.282310\n",
       "B    0.286199\n",
       "C    0.293624\n",
       "D    0.288169\n",
       "E    0.287098\n",
       "dtype: float64"
      ]
     },
     "execution_count": 140,
     "metadata": {},
     "output_type": "execute_result"
    }
   ],
   "source": [
    "newf.std()"
   ]
  },
  {
   "cell_type": "code",
   "execution_count": null,
   "id": "95034886",
   "metadata": {},
   "outputs": [],
   "source": []
  }
 ],
 "metadata": {
  "kernelspec": {
   "display_name": "Python 3",
   "language": "python",
   "name": "python3"
  },
  "language_info": {
   "codemirror_mode": {
    "name": "ipython",
    "version": 3
   },
   "file_extension": ".py",
   "mimetype": "text/x-python",
   "name": "python",
   "nbconvert_exporter": "python",
   "pygments_lexer": "ipython3",
   "version": "3.8.8"
  }
 },
 "nbformat": 4,
 "nbformat_minor": 5
}
